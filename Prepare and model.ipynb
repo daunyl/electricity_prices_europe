{
 "cells": [
  {
   "cell_type": "code",
   "execution_count": 57,
   "id": "2bbdf774-7e04-4e67-a33b-375e2b046540",
   "metadata": {},
   "outputs": [],
   "source": [
    "from sklearn.preprocessing import StandardScaler,MinMaxScaler\n",
    "from sklearn.neighbors import KNeighborsRegressor\n",
    "from sklearn.linear_model import LinearRegression, LogisticRegression, Ridge\n",
    "from sklearn.ensemble import RandomForestRegressor\n",
    "from sklearn.metrics import r2_score\n",
    "from sklearn.model_selection import train_test_split,validation_curve, GridSearchCV\n",
    "from sklearn.preprocessing import PowerTransformer\n",
    "from sklearn.model_selection import KFold\n",
    "from sklearn.metrics import mean_absolute_error, accuracy_score\n",
    "from sklearn.decomposition import PCA"
   ]
  },
  {
   "cell_type": "code",
   "execution_count": 58,
   "id": "e800a282-16e7-4c64-941a-569e131df8c0",
   "metadata": {},
   "outputs": [],
   "source": [
    "import pandas as pd\n",
    "import numpy as np\n",
    "import matplotlib.pyplot as plt\n",
    "import missingno as msno\n",
    "import datetime\n",
    "import seaborn as sns\n",
    "import fasteda\n",
    "import plotly.graph_objects as go \n",
    "import xgboost as xgb\n",
    "%matplotlib inline"
   ]
  },
  {
   "cell_type": "code",
   "execution_count": 3,
   "id": "c70f20d1-8490-4339-8feb-c3ed0fb8e13a",
   "metadata": {},
   "outputs": [
    {
     "data": {
      "text/html": [
       "<div>\n",
       "<style scoped>\n",
       "    .dataframe tbody tr th:only-of-type {\n",
       "        vertical-align: middle;\n",
       "    }\n",
       "\n",
       "    .dataframe tbody tr th {\n",
       "        vertical-align: top;\n",
       "    }\n",
       "\n",
       "    .dataframe thead th {\n",
       "        text-align: right;\n",
       "    }\n",
       "</style>\n",
       "<table border=\"1\" class=\"dataframe\">\n",
       "  <thead>\n",
       "    <tr style=\"text-align: right;\">\n",
       "      <th></th>\n",
       "      <th>Time</th>\n",
       "      <th>Geothermal</th>\n",
       "      <th>Solar</th>\n",
       "      <th>Wind</th>\n",
       "      <th>Other Renewables</th>\n",
       "      <th>Hydro</th>\n",
       "      <th>Combustible Renewables</th>\n",
       "      <th>Coal, Peat and Manufactured Gases</th>\n",
       "      <th>Natural Gas</th>\n",
       "      <th>Oil and Petroleum Products</th>\n",
       "      <th>Other Combustible Non-Renewables</th>\n",
       "      <th>UNMPR</th>\n",
       "      <th>Price(EUR/GWh)</th>\n",
       "    </tr>\n",
       "  </thead>\n",
       "  <tbody>\n",
       "    <tr>\n",
       "      <th>0</th>\n",
       "      <td>2016-01-01</td>\n",
       "      <td>1326.789</td>\n",
       "      <td>3351.967</td>\n",
       "      <td>35628.395</td>\n",
       "      <td>41.2</td>\n",
       "      <td>55023.687</td>\n",
       "      <td>16494.803</td>\n",
       "      <td>70313.116</td>\n",
       "      <td>59978.891</td>\n",
       "      <td>5455.079</td>\n",
       "      <td>2205.095</td>\n",
       "      <td>9.7</td>\n",
       "      <td>0.037164</td>\n",
       "    </tr>\n",
       "    <tr>\n",
       "      <th>1</th>\n",
       "      <td>2016-02-01</td>\n",
       "      <td>1256.233</td>\n",
       "      <td>4901.266</td>\n",
       "      <td>36277.080</td>\n",
       "      <td>41.2</td>\n",
       "      <td>55934.777</td>\n",
       "      <td>14830.339</td>\n",
       "      <td>60901.101</td>\n",
       "      <td>50334.148</td>\n",
       "      <td>4437.139</td>\n",
       "      <td>2066.531</td>\n",
       "      <td>9.6</td>\n",
       "      <td>0.027102</td>\n",
       "    </tr>\n",
       "    <tr>\n",
       "      <th>2</th>\n",
       "      <td>2016-03-01</td>\n",
       "      <td>1354.394</td>\n",
       "      <td>8047.000</td>\n",
       "      <td>27362.268</td>\n",
       "      <td>41.2</td>\n",
       "      <td>57546.386</td>\n",
       "      <td>15801.635</td>\n",
       "      <td>63693.955</td>\n",
       "      <td>53420.475</td>\n",
       "      <td>4432.972</td>\n",
       "      <td>2127.367</td>\n",
       "      <td>9.5</td>\n",
       "      <td>0.027581</td>\n",
       "    </tr>\n",
       "    <tr>\n",
       "      <th>3</th>\n",
       "      <td>2016-04-01</td>\n",
       "      <td>1282.061</td>\n",
       "      <td>11269.077</td>\n",
       "      <td>24661.307</td>\n",
       "      <td>41.2</td>\n",
       "      <td>56949.051</td>\n",
       "      <td>13866.405</td>\n",
       "      <td>53587.305</td>\n",
       "      <td>46547.237</td>\n",
       "      <td>3778.374</td>\n",
       "      <td>1991.104</td>\n",
       "      <td>9.4</td>\n",
       "      <td>0.027452</td>\n",
       "    </tr>\n",
       "    <tr>\n",
       "      <th>4</th>\n",
       "      <td>2016-05-01</td>\n",
       "      <td>1285.947</td>\n",
       "      <td>13493.892</td>\n",
       "      <td>23264.017</td>\n",
       "      <td>41.2</td>\n",
       "      <td>55841.288</td>\n",
       "      <td>13681.785</td>\n",
       "      <td>50761.393</td>\n",
       "      <td>42774.509</td>\n",
       "      <td>3859.860</td>\n",
       "      <td>2094.338</td>\n",
       "      <td>9.4</td>\n",
       "      <td>0.027448</td>\n",
       "    </tr>\n",
       "  </tbody>\n",
       "</table>\n",
       "</div>"
      ],
      "text/plain": [
       "        Time  Geothermal      Solar       Wind  Other Renewables      Hydro  \\\n",
       "0 2016-01-01    1326.789   3351.967  35628.395              41.2  55023.687   \n",
       "1 2016-02-01    1256.233   4901.266  36277.080              41.2  55934.777   \n",
       "2 2016-03-01    1354.394   8047.000  27362.268              41.2  57546.386   \n",
       "3 2016-04-01    1282.061  11269.077  24661.307              41.2  56949.051   \n",
       "4 2016-05-01    1285.947  13493.892  23264.017              41.2  55841.288   \n",
       "\n",
       "   Combustible Renewables  Coal, Peat and Manufactured Gases  Natural Gas  \\\n",
       "0               16494.803                          70313.116    59978.891   \n",
       "1               14830.339                          60901.101    50334.148   \n",
       "2               15801.635                          63693.955    53420.475   \n",
       "3               13866.405                          53587.305    46547.237   \n",
       "4               13681.785                          50761.393    42774.509   \n",
       "\n",
       "   Oil and Petroleum Products  Other Combustible Non-Renewables  UNMPR  \\\n",
       "0                    5455.079                          2205.095    9.7   \n",
       "1                    4437.139                          2066.531    9.6   \n",
       "2                    4432.972                          2127.367    9.5   \n",
       "3                    3778.374                          1991.104    9.4   \n",
       "4                    3859.860                          2094.338    9.4   \n",
       "\n",
       "   Price(EUR/GWh)  \n",
       "0        0.037164  \n",
       "1        0.027102  \n",
       "2        0.027581  \n",
       "3        0.027452  \n",
       "4        0.027448  "
      ]
     },
     "execution_count": 3,
     "metadata": {},
     "output_type": "execute_result"
    }
   ],
   "source": [
    "df = pd.read_excel('full_data.xlsx')\n",
    "df.head()"
   ]
  },
  {
   "cell_type": "code",
   "execution_count": 4,
   "id": "71992af0-a49d-4050-a2e7-a9ae67416ad6",
   "metadata": {},
   "outputs": [],
   "source": [
    "#df['Price(EUR/GWh)'].shift(-1)"
   ]
  },
  {
   "cell_type": "code",
   "execution_count": 5,
   "id": "98bdeef2-3d15-47bc-a4f7-e4d5aff7c84b",
   "metadata": {},
   "outputs": [
    {
     "data": {
      "text/plain": [
       "[<matplotlib.lines.Line2D at 0x278f32f44f0>]"
      ]
     },
     "execution_count": 5,
     "metadata": {},
     "output_type": "execute_result"
    },
    {
     "data": {
      "image/png": "[encoded data removed]",
      "text/plain": [
       "<Figure size 1008x648 with 1 Axes>"
      ]
     },
     "metadata": {},
     "output_type": "display_data"
    }
   ],
   "source": [
    "sns.set()\n",
    "plt.figure(figsize=(14,9))\n",
    "plt.plot(df['Time'],df['Price(EUR/GWh)'],marker='o')"
   ]
  },
  {
   "cell_type": "code",
   "execution_count": 6,
   "id": "866e8b51-7563-4aeb-b590-9ceb7126feff",
   "metadata": {},
   "outputs": [
    {
     "data": {
      "text/plain": [
       "<AxesSubplot:>"
      ]
     },
     "execution_count": 6,
     "metadata": {},
     "output_type": "execute_result"
    },
    {
     "data": {
      "image/png": "[encoded data removed]",
      "text/plain": [
       "<Figure size 432x288 with 1 Axes>"
      ]
     },
     "metadata": {},
     "output_type": "display_data"
    }
   ],
   "source": [
    "df['Price(EUR/GWh)'].hist()"
   ]
  },
  {
   "cell_type": "code",
   "execution_count": 6,
   "id": "6f6cc2ee-5b58-480a-b6e2-9c0a946917fc",
   "metadata": {},
   "outputs": [],
   "source": [
    "pt = PowerTransformer(method='box-cox')\n",
    "data = pt.fit_transform(df.iloc[:,1:-1])"
   ]
  },
  {
   "cell_type": "code",
   "execution_count": 7,
   "id": "f0ab0e7c-ca96-4430-ad94-f79a0a1125e4",
   "metadata": {},
   "outputs": [
    {
     "data": {
      "text/html": [
       "<div>\n",
       "<style scoped>\n",
       "    .dataframe tbody tr th:only-of-type {\n",
       "        vertical-align: middle;\n",
       "    }\n",
       "\n",
       "    .dataframe tbody tr th {\n",
       "        vertical-align: top;\n",
       "    }\n",
       "\n",
       "    .dataframe thead th {\n",
       "        text-align: right;\n",
       "    }\n",
       "</style>\n",
       "<table border=\"1\" class=\"dataframe\">\n",
       "  <thead>\n",
       "    <tr style=\"text-align: right;\">\n",
       "      <th></th>\n",
       "      <th>Geothermal</th>\n",
       "      <th>Solar</th>\n",
       "      <th>Wind</th>\n",
       "      <th>Other Renewables</th>\n",
       "      <th>Hydro</th>\n",
       "      <th>Combustible Renewables</th>\n",
       "      <th>Coal, Peat and Manufactured Gases</th>\n",
       "      <th>Natural Gas</th>\n",
       "      <th>Oil and Petroleum Products</th>\n",
       "      <th>Other Combustible Non-Renewables</th>\n",
       "      <th>UNMPR</th>\n",
       "      <th>Price</th>\n",
       "    </tr>\n",
       "  </thead>\n",
       "  <tbody>\n",
       "    <tr>\n",
       "      <th>0</th>\n",
       "      <td>-1.184439</td>\n",
       "      <td>-1.732406</td>\n",
       "      <td>0.105262</td>\n",
       "      <td>-0.784282</td>\n",
       "      <td>1.051854</td>\n",
       "      <td>0.533716</td>\n",
       "      <td>1.780155</td>\n",
       "      <td>0.261032</td>\n",
       "      <td>1.980185</td>\n",
       "      <td>-0.176270</td>\n",
       "      <td>1.851171</td>\n",
       "      <td>0.037164</td>\n",
       "    </tr>\n",
       "    <tr>\n",
       "      <th>1</th>\n",
       "      <td>-1.594698</td>\n",
       "      <td>-1.274228</td>\n",
       "      <td>0.162140</td>\n",
       "      <td>-0.784282</td>\n",
       "      <td>1.218532</td>\n",
       "      <td>-0.562802</td>\n",
       "      <td>1.043900</td>\n",
       "      <td>-0.952485</td>\n",
       "      <td>1.117858</td>\n",
       "      <td>-1.280202</td>\n",
       "      <td>1.797401</td>\n",
       "      <td>0.027102</td>\n",
       "    </tr>\n",
       "    <tr>\n",
       "      <th>2</th>\n",
       "      <td>-1.028510</td>\n",
       "      <td>-0.581062</td>\n",
       "      <td>-0.724713</td>\n",
       "      <td>-0.784282</td>\n",
       "      <td>1.516980</td>\n",
       "      <td>0.089502</td>\n",
       "      <td>1.267209</td>\n",
       "      <td>-0.565288</td>\n",
       "      <td>1.113073</td>\n",
       "      <td>-0.778193</td>\n",
       "      <td>1.742213</td>\n",
       "      <td>0.027581</td>\n",
       "    </tr>\n",
       "    <tr>\n",
       "      <th>3</th>\n",
       "      <td>-1.442498</td>\n",
       "      <td>-0.039774</td>\n",
       "      <td>-1.050369</td>\n",
       "      <td>-0.784282</td>\n",
       "      <td>1.405826</td>\n",
       "      <td>-1.248561</td>\n",
       "      <td>0.437097</td>\n",
       "      <td>-1.425998</td>\n",
       "      <td>0.154769</td>\n",
       "      <td>-1.944274</td>\n",
       "      <td>1.685553</td>\n",
       "      <td>0.027452</td>\n",
       "    </tr>\n",
       "    <tr>\n",
       "      <th>4</th>\n",
       "      <td>-1.419804</td>\n",
       "      <td>0.276026</td>\n",
       "      <td>-1.232862</td>\n",
       "      <td>-0.784282</td>\n",
       "      <td>1.201361</td>\n",
       "      <td>-1.384683</td>\n",
       "      <td>0.193131</td>\n",
       "      <td>-1.895887</td>\n",
       "      <td>0.300971</td>\n",
       "      <td>-1.047201</td>\n",
       "      <td>1.685553</td>\n",
       "      <td>0.027448</td>\n",
       "    </tr>\n",
       "  </tbody>\n",
       "</table>\n",
       "</div>"
      ],
      "text/plain": [
       "   Geothermal     Solar      Wind  Other Renewables     Hydro  \\\n",
       "0   -1.184439 -1.732406  0.105262         -0.784282  1.051854   \n",
       "1   -1.594698 -1.274228  0.162140         -0.784282  1.218532   \n",
       "2   -1.028510 -0.581062 -0.724713         -0.784282  1.516980   \n",
       "3   -1.442498 -0.039774 -1.050369         -0.784282  1.405826   \n",
       "4   -1.419804  0.276026 -1.232862         -0.784282  1.201361   \n",
       "\n",
       "   Combustible Renewables  Coal, Peat and Manufactured Gases  Natural Gas  \\\n",
       "0                0.533716                           1.780155     0.261032   \n",
       "1               -0.562802                           1.043900    -0.952485   \n",
       "2                0.089502                           1.267209    -0.565288   \n",
       "3               -1.248561                           0.437097    -1.425998   \n",
       "4               -1.384683                           0.193131    -1.895887   \n",
       "\n",
       "   Oil and Petroleum Products  Other Combustible Non-Renewables     UNMPR  \\\n",
       "0                    1.980185                         -0.176270  1.851171   \n",
       "1                    1.117858                         -1.280202  1.797401   \n",
       "2                    1.113073                         -0.778193  1.742213   \n",
       "3                    0.154769                         -1.944274  1.685553   \n",
       "4                    0.300971                         -1.047201  1.685553   \n",
       "\n",
       "      Price  \n",
       "0  0.037164  \n",
       "1  0.027102  \n",
       "2  0.027581  \n",
       "3  0.027452  \n",
       "4  0.027448  "
      ]
     },
     "execution_count": 7,
     "metadata": {},
     "output_type": "execute_result"
    }
   ],
   "source": [
    "temp = pd.DataFrame(data)\n",
    "temp.columns = df.columns[1:-1]\n",
    "temp['Price'] = df.iloc[:,-1]\n",
    "temp.head()"
   ]
  },
  {
   "cell_type": "markdown",
   "id": "5bbaa975-ed6d-4828-bce0-3d0951ef50d2",
   "metadata": {},
   "source": [
    "fasteda.fast_eda(df)"
   ]
  },
  {
   "cell_type": "markdown",
   "id": "df784399-e0fc-4d84-9cef-9b82c7822780",
   "metadata": {},
   "source": [
    "df.columns"
   ]
  },
  {
   "cell_type": "markdown",
   "id": "7eb2ee2c-306d-4f3c-affa-19807a84b07d",
   "metadata": {},
   "source": [
    "temp = df[['Geothermal', 'Solar', 'Wind', 'Other Renewables', 'Hydro',\n",
    "       'Combustible Renewables', 'Coal, Peat and Manufactured Gases',\n",
    "       'Natural Gas', 'Oil and Petroleum Products',\n",
    "       'Other Combustible Non-Renewables', 'UNMPR','Price(EUR/GWh)']]"
   ]
  },
  {
   "cell_type": "markdown",
   "id": "be2eecce-d0fc-40e2-bad9-529b7cd77fe3",
   "metadata": {},
   "source": [
    "notime = ['Geothermal', 'Solar', 'Wind', 'Other Renewables', 'Hydro',\n",
    "       'Combustible Renewables', 'Coal, Peat and Manufactured Gases',\n",
    "       'Natural Gas', 'Oil and Petroleum Products',\n",
    "       'Other Combustible Non-Renewables', 'UNMPR','Price(EUR/GWh)']"
   ]
  },
  {
   "cell_type": "markdown",
   "id": "fc5c0762-64e8-44fe-a39c-f6b3a6ca9a81",
   "metadata": {},
   "source": [
    "temp = (temp - temp.mean(axis=0))/temp.std(axis=0)"
   ]
  },
  {
   "cell_type": "markdown",
   "id": "5e02ebf7-f835-4917-a66e-62a293fbc3d3",
   "metadata": {},
   "source": [
    "temp = temp.apply(np.log)"
   ]
  },
  {
   "cell_type": "markdown",
   "id": "03711a14-c7a2-42b1-be3d-c9f6580f0040",
   "metadata": {},
   "source": [
    "fasteda.fast_eda(temp)"
   ]
  },
  {
   "cell_type": "markdown",
   "id": "7b5a0908-d0c1-4a11-8616-70737c765a14",
   "metadata": {},
   "source": [
    "scaler = StandardScaler()\n",
    "temp.iloc[:,:-1] = scaler.fit_transform(temp.iloc[:,:-1])"
   ]
  },
  {
   "cell_type": "markdown",
   "id": "3385f768-112e-4dfa-9397-1471d82ab07b",
   "metadata": {},
   "source": [
    "temp = pd.DataFrame(temp)\n",
    "temp.columns = notime\n",
    "temp.head()"
   ]
  },
  {
   "cell_type": "code",
   "execution_count": 8,
   "id": "05165a10-d93e-4e9c-a8cb-26555246217c",
   "metadata": {},
   "outputs": [],
   "source": [
    "#fasteda.fast_eda(temp)"
   ]
  },
  {
   "cell_type": "code",
   "execution_count": 9,
   "id": "549a8bcd-d5ef-45e9-a74f-7de2a792f8c3",
   "metadata": {},
   "outputs": [
    {
     "data": {
      "text/html": [
       "<div>\n",
       "<style scoped>\n",
       "    .dataframe tbody tr th:only-of-type {\n",
       "        vertical-align: middle;\n",
       "    }\n",
       "\n",
       "    .dataframe tbody tr th {\n",
       "        vertical-align: top;\n",
       "    }\n",
       "\n",
       "    .dataframe thead th {\n",
       "        text-align: right;\n",
       "    }\n",
       "</style>\n",
       "<table border=\"1\" class=\"dataframe\">\n",
       "  <thead>\n",
       "    <tr style=\"text-align: right;\">\n",
       "      <th></th>\n",
       "      <th>Geothermal</th>\n",
       "      <th>Solar</th>\n",
       "      <th>Wind</th>\n",
       "      <th>Other Renewables</th>\n",
       "      <th>Hydro</th>\n",
       "      <th>Combustible Renewables</th>\n",
       "      <th>Coal, Peat and Manufactured Gases</th>\n",
       "      <th>Natural Gas</th>\n",
       "      <th>Oil and Petroleum Products</th>\n",
       "      <th>Other Combustible Non-Renewables</th>\n",
       "      <th>UNMPR</th>\n",
       "      <th>Price</th>\n",
       "    </tr>\n",
       "  </thead>\n",
       "  <tbody>\n",
       "    <tr>\n",
       "      <th>0</th>\n",
       "      <td>-1.184439</td>\n",
       "      <td>-1.732406</td>\n",
       "      <td>0.105262</td>\n",
       "      <td>-0.784282</td>\n",
       "      <td>1.051854</td>\n",
       "      <td>0.533716</td>\n",
       "      <td>1.780155</td>\n",
       "      <td>0.261032</td>\n",
       "      <td>1.980185</td>\n",
       "      <td>-0.176270</td>\n",
       "      <td>1.851171</td>\n",
       "      <td>0.037164</td>\n",
       "    </tr>\n",
       "    <tr>\n",
       "      <th>1</th>\n",
       "      <td>-1.594698</td>\n",
       "      <td>-1.274228</td>\n",
       "      <td>0.162140</td>\n",
       "      <td>-0.784282</td>\n",
       "      <td>1.218532</td>\n",
       "      <td>-0.562802</td>\n",
       "      <td>1.043900</td>\n",
       "      <td>-0.952485</td>\n",
       "      <td>1.117858</td>\n",
       "      <td>-1.280202</td>\n",
       "      <td>1.797401</td>\n",
       "      <td>0.027102</td>\n",
       "    </tr>\n",
       "    <tr>\n",
       "      <th>2</th>\n",
       "      <td>-1.028510</td>\n",
       "      <td>-0.581062</td>\n",
       "      <td>-0.724713</td>\n",
       "      <td>-0.784282</td>\n",
       "      <td>1.516980</td>\n",
       "      <td>0.089502</td>\n",
       "      <td>1.267209</td>\n",
       "      <td>-0.565288</td>\n",
       "      <td>1.113073</td>\n",
       "      <td>-0.778193</td>\n",
       "      <td>1.742213</td>\n",
       "      <td>0.027581</td>\n",
       "    </tr>\n",
       "    <tr>\n",
       "      <th>3</th>\n",
       "      <td>-1.442498</td>\n",
       "      <td>-0.039774</td>\n",
       "      <td>-1.050369</td>\n",
       "      <td>-0.784282</td>\n",
       "      <td>1.405826</td>\n",
       "      <td>-1.248561</td>\n",
       "      <td>0.437097</td>\n",
       "      <td>-1.425998</td>\n",
       "      <td>0.154769</td>\n",
       "      <td>-1.944274</td>\n",
       "      <td>1.685553</td>\n",
       "      <td>0.027452</td>\n",
       "    </tr>\n",
       "    <tr>\n",
       "      <th>4</th>\n",
       "      <td>-1.419804</td>\n",
       "      <td>0.276026</td>\n",
       "      <td>-1.232862</td>\n",
       "      <td>-0.784282</td>\n",
       "      <td>1.201361</td>\n",
       "      <td>-1.384683</td>\n",
       "      <td>0.193131</td>\n",
       "      <td>-1.895887</td>\n",
       "      <td>0.300971</td>\n",
       "      <td>-1.047201</td>\n",
       "      <td>1.685553</td>\n",
       "      <td>0.027448</td>\n",
       "    </tr>\n",
       "  </tbody>\n",
       "</table>\n",
       "</div>"
      ],
      "text/plain": [
       "   Geothermal     Solar      Wind  Other Renewables     Hydro  \\\n",
       "0   -1.184439 -1.732406  0.105262         -0.784282  1.051854   \n",
       "1   -1.594698 -1.274228  0.162140         -0.784282  1.218532   \n",
       "2   -1.028510 -0.581062 -0.724713         -0.784282  1.516980   \n",
       "3   -1.442498 -0.039774 -1.050369         -0.784282  1.405826   \n",
       "4   -1.419804  0.276026 -1.232862         -0.784282  1.201361   \n",
       "\n",
       "   Combustible Renewables  Coal, Peat and Manufactured Gases  Natural Gas  \\\n",
       "0                0.533716                           1.780155     0.261032   \n",
       "1               -0.562802                           1.043900    -0.952485   \n",
       "2                0.089502                           1.267209    -0.565288   \n",
       "3               -1.248561                           0.437097    -1.425998   \n",
       "4               -1.384683                           0.193131    -1.895887   \n",
       "\n",
       "   Oil and Petroleum Products  Other Combustible Non-Renewables     UNMPR  \\\n",
       "0                    1.980185                         -0.176270  1.851171   \n",
       "1                    1.117858                         -1.280202  1.797401   \n",
       "2                    1.113073                         -0.778193  1.742213   \n",
       "3                    0.154769                         -1.944274  1.685553   \n",
       "4                    0.300971                         -1.047201  1.685553   \n",
       "\n",
       "      Price  \n",
       "0  0.037164  \n",
       "1  0.027102  \n",
       "2  0.027581  \n",
       "3  0.027452  \n",
       "4  0.027448  "
      ]
     },
     "execution_count": 9,
     "metadata": {},
     "output_type": "execute_result"
    }
   ],
   "source": [
    "temp.head()"
   ]
  },
  {
   "cell_type": "markdown",
   "id": "ff1d2a8a-06ad-4949-af11-daf214945c18",
   "metadata": {},
   "source": [
    "t_col = ['Solar', 'Wind', 'Other Renewables', 'Hydro',\n",
    "       'Combustible Renewables', 'Coal, Peat and Manufactured Gases',\n",
    "       'Natural Gas', 'Oil and Petroleum Products',\n",
    "       'Other Combustible Non-Renewables', 'UNMPR']"
   ]
  },
  {
   "cell_type": "code",
   "execution_count": 15,
   "id": "20d1f7c7-56c6-4917-a9d2-1bb1f6b618cf",
   "metadata": {},
   "outputs": [],
   "source": [
    "t_col = ['Geothermal',\n",
    "         'Solar',\n",
    "         'Wind', \n",
    "         'Other Renewables',\n",
    "         'Hydro',\n",
    "         'Combustible Renewables',\n",
    "         'Coal, Peat and Manufactured Gases',\n",
    "         'Oil and Petroleum Products',\n",
    "         'Natural Gas',\n",
    "         'Other Combustible Non-Renewables',\n",
    "         'UNMPR'\n",
    "        ]\n",
    "\n",
    "X = temp[t_col]\n",
    "y = df['Price(EUR/GWh)']"
   ]
  },
  {
   "cell_type": "code",
   "execution_count": null,
   "id": "f124dc61-5dc2-4866-b26a-173e622caae1",
   "metadata": {},
   "outputs": [],
   "source": [
    "plt.figure(figsize=(15,8))\n",
    "sns.heatmap(temp[t_col + ['Price']].corr(),annot=True)"
   ]
  },
  {
   "cell_type": "code",
   "execution_count": 41,
   "id": "3378e130-26e7-4673-bf14-a19be6948991",
   "metadata": {},
   "outputs": [],
   "source": [
    "X_train,X_test,Y_train,Y_test = train_test_split(X,y,test_size=0.2,random_state=42)\n",
    "\n",
    "models = [LinearRegression(),\n",
    "\t          RandomForestRegressor(n_estimators=20,max_features='sqrt',max_depth=5,min_samples_leaf=1,min_samples_split=2),\n",
    "\t          KNeighborsRegressor(n_neighbors=4)\n",
    "\t          ]"
   ]
  },
  {
   "cell_type": "code",
   "execution_count": 42,
   "id": "a670c40d-1c10-4fae-a537-c98e46487e26",
   "metadata": {},
   "outputs": [],
   "source": [
    "TestModels = pd.DataFrame()\n",
    "tmp = {}\n",
    "for model in models:\n",
    "\tm = str(model)\n",
    "\ttmp['Model'] = m[:m.index('(')]    \n",
    "\tfor i in range(len(Y_train)):\n",
    "\t    model.fit(X_train, Y_train) \n",
    "\t    tmp['R2_Y%s'%str(i+1)] = r2_score(Y_test, model.predict(X_test))\n",
    "\tTestModels = TestModels.append([tmp])\n",
    "TestModels.set_index('Model', inplace=True)"
   ]
  },
  {
   "cell_type": "code",
   "execution_count": 43,
   "id": "242cf440-2812-42b9-9ffe-5483fce9a4f0",
   "metadata": {},
   "outputs": [
    {
     "data": {
      "text/html": [
       "<div>\n",
       "<style scoped>\n",
       "    .dataframe tbody tr th:only-of-type {\n",
       "        vertical-align: middle;\n",
       "    }\n",
       "\n",
       "    .dataframe tbody tr th {\n",
       "        vertical-align: top;\n",
       "    }\n",
       "\n",
       "    .dataframe thead th {\n",
       "        text-align: right;\n",
       "    }\n",
       "</style>\n",
       "<table border=\"1\" class=\"dataframe\">\n",
       "  <thead>\n",
       "    <tr style=\"text-align: right;\">\n",
       "      <th></th>\n",
       "      <th>R2_Y1</th>\n",
       "      <th>R2_Y2</th>\n",
       "      <th>R2_Y3</th>\n",
       "      <th>R2_Y4</th>\n",
       "      <th>R2_Y5</th>\n",
       "      <th>R2_Y6</th>\n",
       "      <th>R2_Y7</th>\n",
       "      <th>R2_Y8</th>\n",
       "      <th>R2_Y9</th>\n",
       "      <th>R2_Y10</th>\n",
       "      <th>R2_Y11</th>\n",
       "      <th>R2_Y12</th>\n",
       "      <th>R2_Y13</th>\n",
       "      <th>R2_Y14</th>\n",
       "      <th>R2_Y15</th>\n",
       "      <th>R2_Y16</th>\n",
       "      <th>R2_Y17</th>\n",
       "      <th>R2_Y18</th>\n",
       "      <th>R2_Y19</th>\n",
       "      <th>R2_Y20</th>\n",
       "      <th>R2_Y21</th>\n",
       "      <th>R2_Y22</th>\n",
       "      <th>R2_Y23</th>\n",
       "      <th>R2_Y24</th>\n",
       "      <th>R2_Y25</th>\n",
       "      <th>R2_Y26</th>\n",
       "      <th>R2_Y27</th>\n",
       "      <th>R2_Y28</th>\n",
       "      <th>R2_Y29</th>\n",
       "      <th>R2_Y30</th>\n",
       "      <th>R2_Y31</th>\n",
       "      <th>R2_Y32</th>\n",
       "      <th>R2_Y33</th>\n",
       "      <th>R2_Y34</th>\n",
       "      <th>R2_Y35</th>\n",
       "      <th>R2_Y36</th>\n",
       "      <th>R2_Y37</th>\n",
       "      <th>R2_Y38</th>\n",
       "      <th>R2_Y39</th>\n",
       "      <th>R2_Y40</th>\n",
       "      <th>R2_Y41</th>\n",
       "      <th>R2_Y42</th>\n",
       "      <th>R2_Y43</th>\n",
       "      <th>R2_Y44</th>\n",
       "      <th>R2_Y45</th>\n",
       "      <th>R2_Y46</th>\n",
       "      <th>R2_Y47</th>\n",
       "      <th>R2_Y48</th>\n",
       "      <th>R2_Y49</th>\n",
       "      <th>R2_Y50</th>\n",
       "      <th>R2_Y51</th>\n",
       "      <th>R2_Y52</th>\n",
       "      <th>R2_Y53</th>\n",
       "      <th>R2_Y54</th>\n",
       "      <th>R2_Y55</th>\n",
       "      <th>R2_Y56</th>\n",
       "      <th>R2_Y57</th>\n",
       "      <th>R2_Y58</th>\n",
       "      <th>R2_Y59</th>\n",
       "      <th>R2_Y60</th>\n",
       "      <th>R2_Y61</th>\n",
       "      <th>R2_Y62</th>\n",
       "      <th>R2_Y63</th>\n",
       "      <th>R2_Y64</th>\n",
       "      <th>R2_Y65</th>\n",
       "      <th>R2_Y66</th>\n",
       "      <th>R2_Y67</th>\n",
       "      <th>R2_Y68</th>\n",
       "    </tr>\n",
       "    <tr>\n",
       "      <th>Model</th>\n",
       "      <th></th>\n",
       "      <th></th>\n",
       "      <th></th>\n",
       "      <th></th>\n",
       "      <th></th>\n",
       "      <th></th>\n",
       "      <th></th>\n",
       "      <th></th>\n",
       "      <th></th>\n",
       "      <th></th>\n",
       "      <th></th>\n",
       "      <th></th>\n",
       "      <th></th>\n",
       "      <th></th>\n",
       "      <th></th>\n",
       "      <th></th>\n",
       "      <th></th>\n",
       "      <th></th>\n",
       "      <th></th>\n",
       "      <th></th>\n",
       "      <th></th>\n",
       "      <th></th>\n",
       "      <th></th>\n",
       "      <th></th>\n",
       "      <th></th>\n",
       "      <th></th>\n",
       "      <th></th>\n",
       "      <th></th>\n",
       "      <th></th>\n",
       "      <th></th>\n",
       "      <th></th>\n",
       "      <th></th>\n",
       "      <th></th>\n",
       "      <th></th>\n",
       "      <th></th>\n",
       "      <th></th>\n",
       "      <th></th>\n",
       "      <th></th>\n",
       "      <th></th>\n",
       "      <th></th>\n",
       "      <th></th>\n",
       "      <th></th>\n",
       "      <th></th>\n",
       "      <th></th>\n",
       "      <th></th>\n",
       "      <th></th>\n",
       "      <th></th>\n",
       "      <th></th>\n",
       "      <th></th>\n",
       "      <th></th>\n",
       "      <th></th>\n",
       "      <th></th>\n",
       "      <th></th>\n",
       "      <th></th>\n",
       "      <th></th>\n",
       "      <th></th>\n",
       "      <th></th>\n",
       "      <th></th>\n",
       "      <th></th>\n",
       "      <th></th>\n",
       "      <th></th>\n",
       "      <th></th>\n",
       "      <th></th>\n",
       "      <th></th>\n",
       "      <th></th>\n",
       "      <th></th>\n",
       "      <th></th>\n",
       "      <th></th>\n",
       "    </tr>\n",
       "  </thead>\n",
       "  <tbody>\n",
       "    <tr>\n",
       "      <th>LinearRegression</th>\n",
       "      <td>0.772676</td>\n",
       "      <td>0.772676</td>\n",
       "      <td>0.772676</td>\n",
       "      <td>0.772676</td>\n",
       "      <td>0.772676</td>\n",
       "      <td>0.772676</td>\n",
       "      <td>0.772676</td>\n",
       "      <td>0.772676</td>\n",
       "      <td>0.772676</td>\n",
       "      <td>0.772676</td>\n",
       "      <td>0.772676</td>\n",
       "      <td>0.772676</td>\n",
       "      <td>0.772676</td>\n",
       "      <td>0.772676</td>\n",
       "      <td>0.772676</td>\n",
       "      <td>0.772676</td>\n",
       "      <td>0.772676</td>\n",
       "      <td>0.772676</td>\n",
       "      <td>0.772676</td>\n",
       "      <td>0.772676</td>\n",
       "      <td>0.772676</td>\n",
       "      <td>0.772676</td>\n",
       "      <td>0.772676</td>\n",
       "      <td>0.772676</td>\n",
       "      <td>0.772676</td>\n",
       "      <td>0.772676</td>\n",
       "      <td>0.772676</td>\n",
       "      <td>0.772676</td>\n",
       "      <td>0.772676</td>\n",
       "      <td>0.772676</td>\n",
       "      <td>0.772676</td>\n",
       "      <td>0.772676</td>\n",
       "      <td>0.772676</td>\n",
       "      <td>0.772676</td>\n",
       "      <td>0.772676</td>\n",
       "      <td>0.772676</td>\n",
       "      <td>0.772676</td>\n",
       "      <td>0.772676</td>\n",
       "      <td>0.772676</td>\n",
       "      <td>0.772676</td>\n",
       "      <td>0.772676</td>\n",
       "      <td>0.772676</td>\n",
       "      <td>0.772676</td>\n",
       "      <td>0.772676</td>\n",
       "      <td>0.772676</td>\n",
       "      <td>0.772676</td>\n",
       "      <td>0.772676</td>\n",
       "      <td>0.772676</td>\n",
       "      <td>0.772676</td>\n",
       "      <td>0.772676</td>\n",
       "      <td>0.772676</td>\n",
       "      <td>0.772676</td>\n",
       "      <td>0.772676</td>\n",
       "      <td>0.772676</td>\n",
       "      <td>0.772676</td>\n",
       "      <td>0.772676</td>\n",
       "      <td>0.772676</td>\n",
       "      <td>0.772676</td>\n",
       "      <td>0.772676</td>\n",
       "      <td>0.772676</td>\n",
       "      <td>0.772676</td>\n",
       "      <td>0.772676</td>\n",
       "      <td>0.772676</td>\n",
       "      <td>0.772676</td>\n",
       "      <td>0.772676</td>\n",
       "      <td>0.772676</td>\n",
       "      <td>0.772676</td>\n",
       "      <td>0.772676</td>\n",
       "    </tr>\n",
       "    <tr>\n",
       "      <th>RandomForestRegressor</th>\n",
       "      <td>0.787807</td>\n",
       "      <td>0.905410</td>\n",
       "      <td>0.889276</td>\n",
       "      <td>0.848458</td>\n",
       "      <td>0.925177</td>\n",
       "      <td>0.922297</td>\n",
       "      <td>0.843358</td>\n",
       "      <td>0.910258</td>\n",
       "      <td>0.935649</td>\n",
       "      <td>0.852878</td>\n",
       "      <td>0.920599</td>\n",
       "      <td>0.905447</td>\n",
       "      <td>0.872296</td>\n",
       "      <td>0.820512</td>\n",
       "      <td>0.905227</td>\n",
       "      <td>0.876412</td>\n",
       "      <td>0.892231</td>\n",
       "      <td>0.845445</td>\n",
       "      <td>0.936439</td>\n",
       "      <td>0.941468</td>\n",
       "      <td>0.842781</td>\n",
       "      <td>0.882379</td>\n",
       "      <td>0.888883</td>\n",
       "      <td>0.904228</td>\n",
       "      <td>0.919044</td>\n",
       "      <td>0.876741</td>\n",
       "      <td>0.939059</td>\n",
       "      <td>0.919851</td>\n",
       "      <td>0.848384</td>\n",
       "      <td>0.890425</td>\n",
       "      <td>0.870893</td>\n",
       "      <td>0.801820</td>\n",
       "      <td>0.900094</td>\n",
       "      <td>0.839031</td>\n",
       "      <td>0.913644</td>\n",
       "      <td>0.919460</td>\n",
       "      <td>0.900783</td>\n",
       "      <td>0.913905</td>\n",
       "      <td>0.863442</td>\n",
       "      <td>0.900048</td>\n",
       "      <td>0.881536</td>\n",
       "      <td>0.916381</td>\n",
       "      <td>0.938206</td>\n",
       "      <td>0.827688</td>\n",
       "      <td>0.783276</td>\n",
       "      <td>0.905053</td>\n",
       "      <td>0.906800</td>\n",
       "      <td>0.905990</td>\n",
       "      <td>0.917431</td>\n",
       "      <td>0.867122</td>\n",
       "      <td>0.783123</td>\n",
       "      <td>0.931295</td>\n",
       "      <td>0.946244</td>\n",
       "      <td>0.905703</td>\n",
       "      <td>0.905629</td>\n",
       "      <td>0.769989</td>\n",
       "      <td>0.818419</td>\n",
       "      <td>0.863197</td>\n",
       "      <td>0.877403</td>\n",
       "      <td>0.938956</td>\n",
       "      <td>0.886163</td>\n",
       "      <td>0.802806</td>\n",
       "      <td>0.867448</td>\n",
       "      <td>0.916671</td>\n",
       "      <td>0.946365</td>\n",
       "      <td>0.880051</td>\n",
       "      <td>0.903135</td>\n",
       "      <td>0.869329</td>\n",
       "    </tr>\n",
       "    <tr>\n",
       "      <th>KNeighborsRegressor</th>\n",
       "      <td>0.893512</td>\n",
       "      <td>0.893512</td>\n",
       "      <td>0.893512</td>\n",
       "      <td>0.893512</td>\n",
       "      <td>0.893512</td>\n",
       "      <td>0.893512</td>\n",
       "      <td>0.893512</td>\n",
       "      <td>0.893512</td>\n",
       "      <td>0.893512</td>\n",
       "      <td>0.893512</td>\n",
       "      <td>0.893512</td>\n",
       "      <td>0.893512</td>\n",
       "      <td>0.893512</td>\n",
       "      <td>0.893512</td>\n",
       "      <td>0.893512</td>\n",
       "      <td>0.893512</td>\n",
       "      <td>0.893512</td>\n",
       "      <td>0.893512</td>\n",
       "      <td>0.893512</td>\n",
       "      <td>0.893512</td>\n",
       "      <td>0.893512</td>\n",
       "      <td>0.893512</td>\n",
       "      <td>0.893512</td>\n",
       "      <td>0.893512</td>\n",
       "      <td>0.893512</td>\n",
       "      <td>0.893512</td>\n",
       "      <td>0.893512</td>\n",
       "      <td>0.893512</td>\n",
       "      <td>0.893512</td>\n",
       "      <td>0.893512</td>\n",
       "      <td>0.893512</td>\n",
       "      <td>0.893512</td>\n",
       "      <td>0.893512</td>\n",
       "      <td>0.893512</td>\n",
       "      <td>0.893512</td>\n",
       "      <td>0.893512</td>\n",
       "      <td>0.893512</td>\n",
       "      <td>0.893512</td>\n",
       "      <td>0.893512</td>\n",
       "      <td>0.893512</td>\n",
       "      <td>0.893512</td>\n",
       "      <td>0.893512</td>\n",
       "      <td>0.893512</td>\n",
       "      <td>0.893512</td>\n",
       "      <td>0.893512</td>\n",
       "      <td>0.893512</td>\n",
       "      <td>0.893512</td>\n",
       "      <td>0.893512</td>\n",
       "      <td>0.893512</td>\n",
       "      <td>0.893512</td>\n",
       "      <td>0.893512</td>\n",
       "      <td>0.893512</td>\n",
       "      <td>0.893512</td>\n",
       "      <td>0.893512</td>\n",
       "      <td>0.893512</td>\n",
       "      <td>0.893512</td>\n",
       "      <td>0.893512</td>\n",
       "      <td>0.893512</td>\n",
       "      <td>0.893512</td>\n",
       "      <td>0.893512</td>\n",
       "      <td>0.893512</td>\n",
       "      <td>0.893512</td>\n",
       "      <td>0.893512</td>\n",
       "      <td>0.893512</td>\n",
       "      <td>0.893512</td>\n",
       "      <td>0.893512</td>\n",
       "      <td>0.893512</td>\n",
       "      <td>0.893512</td>\n",
       "    </tr>\n",
       "  </tbody>\n",
       "</table>\n",
       "</div>"
      ],
      "text/plain": [
       "                          R2_Y1     R2_Y2     R2_Y3     R2_Y4     R2_Y5  \\\n",
       "Model                                                                     \n",
       "LinearRegression       0.772676  0.772676  0.772676  0.772676  0.772676   \n",
       "RandomForestRegressor  0.787807  0.905410  0.889276  0.848458  0.925177   \n",
       "KNeighborsRegressor    0.893512  0.893512  0.893512  0.893512  0.893512   \n",
       "\n",
       "                          R2_Y6     R2_Y7     R2_Y8     R2_Y9    R2_Y10  \\\n",
       "Model                                                                     \n",
       "LinearRegression       0.772676  0.772676  0.772676  0.772676  0.772676   \n",
       "RandomForestRegressor  0.922297  0.843358  0.910258  0.935649  0.852878   \n",
       "KNeighborsRegressor    0.893512  0.893512  0.893512  0.893512  0.893512   \n",
       "\n",
       "                         R2_Y11    R2_Y12    R2_Y13    R2_Y14    R2_Y15  \\\n",
       "Model                                                                     \n",
       "LinearRegression       0.772676  0.772676  0.772676  0.772676  0.772676   \n",
       "RandomForestRegressor  0.920599  0.905447  0.872296  0.820512  0.905227   \n",
       "KNeighborsRegressor    0.893512  0.893512  0.893512  0.893512  0.893512   \n",
       "\n",
       "                         R2_Y16    R2_Y17    R2_Y18    R2_Y19    R2_Y20  \\\n",
       "Model                                                                     \n",
       "LinearRegression       0.772676  0.772676  0.772676  0.772676  0.772676   \n",
       "RandomForestRegressor  0.876412  0.892231  0.845445  0.936439  0.941468   \n",
       "KNeighborsRegressor    0.893512  0.893512  0.893512  0.893512  0.893512   \n",
       "\n",
       "                         R2_Y21    R2_Y22    R2_Y23    R2_Y24    R2_Y25  \\\n",
       "Model                                                                     \n",
       "LinearRegression       0.772676  0.772676  0.772676  0.772676  0.772676   \n",
       "RandomForestRegressor  0.842781  0.882379  0.888883  0.904228  0.919044   \n",
       "KNeighborsRegressor    0.893512  0.893512  0.893512  0.893512  0.893512   \n",
       "\n",
       "                         R2_Y26    R2_Y27    R2_Y28    R2_Y29    R2_Y30  \\\n",
       "Model                                                                     \n",
       "LinearRegression       0.772676  0.772676  0.772676  0.772676  0.772676   \n",
       "RandomForestRegressor  0.876741  0.939059  0.919851  0.848384  0.890425   \n",
       "KNeighborsRegressor    0.893512  0.893512  0.893512  0.893512  0.893512   \n",
       "\n",
       "                         R2_Y31    R2_Y32    R2_Y33    R2_Y34    R2_Y35  \\\n",
       "Model                                                                     \n",
       "LinearRegression       0.772676  0.772676  0.772676  0.772676  0.772676   \n",
       "RandomForestRegressor  0.870893  0.801820  0.900094  0.839031  0.913644   \n",
       "KNeighborsRegressor    0.893512  0.893512  0.893512  0.893512  0.893512   \n",
       "\n",
       "                         R2_Y36    R2_Y37    R2_Y38    R2_Y39    R2_Y40  \\\n",
       "Model                                                                     \n",
       "LinearRegression       0.772676  0.772676  0.772676  0.772676  0.772676   \n",
       "RandomForestRegressor  0.919460  0.900783  0.913905  0.863442  0.900048   \n",
       "KNeighborsRegressor    0.893512  0.893512  0.893512  0.893512  0.893512   \n",
       "\n",
       "                         R2_Y41    R2_Y42    R2_Y43    R2_Y44    R2_Y45  \\\n",
       "Model                                                                     \n",
       "LinearRegression       0.772676  0.772676  0.772676  0.772676  0.772676   \n",
       "RandomForestRegressor  0.881536  0.916381  0.938206  0.827688  0.783276   \n",
       "KNeighborsRegressor    0.893512  0.893512  0.893512  0.893512  0.893512   \n",
       "\n",
       "                         R2_Y46    R2_Y47    R2_Y48    R2_Y49    R2_Y50  \\\n",
       "Model                                                                     \n",
       "LinearRegression       0.772676  0.772676  0.772676  0.772676  0.772676   \n",
       "RandomForestRegressor  0.905053  0.906800  0.905990  0.917431  0.867122   \n",
       "KNeighborsRegressor    0.893512  0.893512  0.893512  0.893512  0.893512   \n",
       "\n",
       "                         R2_Y51    R2_Y52    R2_Y53    R2_Y54    R2_Y55  \\\n",
       "Model                                                                     \n",
       "LinearRegression       0.772676  0.772676  0.772676  0.772676  0.772676   \n",
       "RandomForestRegressor  0.783123  0.931295  0.946244  0.905703  0.905629   \n",
       "KNeighborsRegressor    0.893512  0.893512  0.893512  0.893512  0.893512   \n",
       "\n",
       "                         R2_Y56    R2_Y57    R2_Y58    R2_Y59    R2_Y60  \\\n",
       "Model                                                                     \n",
       "LinearRegression       0.772676  0.772676  0.772676  0.772676  0.772676   \n",
       "RandomForestRegressor  0.769989  0.818419  0.863197  0.877403  0.938956   \n",
       "KNeighborsRegressor    0.893512  0.893512  0.893512  0.893512  0.893512   \n",
       "\n",
       "                         R2_Y61    R2_Y62    R2_Y63    R2_Y64    R2_Y65  \\\n",
       "Model                                                                     \n",
       "LinearRegression       0.772676  0.772676  0.772676  0.772676  0.772676   \n",
       "RandomForestRegressor  0.886163  0.802806  0.867448  0.916671  0.946365   \n",
       "KNeighborsRegressor    0.893512  0.893512  0.893512  0.893512  0.893512   \n",
       "\n",
       "                         R2_Y66    R2_Y67    R2_Y68  \n",
       "Model                                                \n",
       "LinearRegression       0.772676  0.772676  0.772676  \n",
       "RandomForestRegressor  0.880051  0.903135  0.869329  \n",
       "KNeighborsRegressor    0.893512  0.893512  0.893512  "
      ]
     },
     "execution_count": 43,
     "metadata": {},
     "output_type": "execute_result"
    }
   ],
   "source": [
    "TestModels"
   ]
  },
  {
   "cell_type": "code",
   "execution_count": 44,
   "id": "14835ebf-2b5e-4235-8022-7ff5503f990e",
   "metadata": {},
   "outputs": [
    {
     "data": {
      "text/plain": [
       "<AxesSubplot:title={'center':'R2_Y1'}, xlabel='Model'>"
      ]
     },
     "execution_count": 44,
     "metadata": {},
     "output_type": "execute_result"
    },
    {
     "data": {
      "image/png": "[encoded data removed]",
      "text/plain": [
       "<Figure size 432x288 with 1 Axes>"
      ]
     },
     "metadata": {},
     "output_type": "display_data"
    }
   ],
   "source": [
    "TestModels.R2_Y1.plot(kind='bar', title='R2_Y1')"
   ]
  },
  {
   "cell_type": "code",
   "execution_count": null,
   "id": "a4c176cc-969f-4613-b6a3-a70d473b01cf",
   "metadata": {},
   "outputs": [],
   "source": [
    "df.describe()"
   ]
  },
  {
   "cell_type": "code",
   "execution_count": null,
   "id": "6ecd5744-f4cd-4ddb-8fe6-ece5f31c29f3",
   "metadata": {},
   "outputs": [],
   "source": [
    "cll = LinearRegression()\n",
    "\n",
    "cll.fit(X_train,Y_train)\n",
    "\n",
    "print('Train score:',cll.score(X_train,Y_train))\n",
    "\n",
    "print('Test score:',cll.score(X_test,Y_test))\n",
    "\n",
    "t = cll.predict(X_test)\n",
    "\n",
    "res = pd.DataFrame({'Real':pd.concat([Y_test,Y_train]),'Pred':cll.predict(pd.concat([X_test,X_train]))})\n",
    "\n",
    "res['Time'] = df.Time.copy()\n",
    "\n",
    "res = res.sort_values(by='Time')\n",
    "\n",
    "plt.figure(figsize=(14,9))\n",
    "plt.plot(res['Time'],res['Real'])\n",
    "plt.plot(res['Time'],res['Pred'])\n",
    "plt.legend(['Real','Pred'])"
   ]
  },
  {
   "cell_type": "code",
   "execution_count": null,
   "id": "f0b19c78-b54a-4afa-8fa6-c21820fecb8f",
   "metadata": {},
   "outputs": [],
   "source": [
    "clf = RandomForestRegressor(n_estimators=100,max_features='sqrt',max_depth=5,min_samples_leaf=1,min_samples_split=2)"
   ]
  },
  {
   "cell_type": "code",
   "execution_count": null,
   "id": "f4fc7e6b-7bc1-4ed9-856d-c9dfb51fe6b9",
   "metadata": {},
   "outputs": [],
   "source": [
    "clf.fit(X_train,Y_train)"
   ]
  },
  {
   "cell_type": "code",
   "execution_count": null,
   "id": "7efcd8d5-f01e-41a5-bdeb-da9549d42b66",
   "metadata": {},
   "outputs": [],
   "source": [
    "clf.score(X_train,Y_train)"
   ]
  },
  {
   "cell_type": "code",
   "execution_count": null,
   "id": "a795cdd1-c3f2-40bf-9ce3-ae91f401c3f3",
   "metadata": {},
   "outputs": [],
   "source": [
    "clf.score(X_test,Y_test)"
   ]
  },
  {
   "cell_type": "code",
   "execution_count": null,
   "id": "d0ea5e12-ae00-4a9d-b0b3-ebf02fc9fac6",
   "metadata": {},
   "outputs": [],
   "source": [
    "res = pd.DataFrame({'Real':pd.concat([Y_test,Y_train]),'Pred':clf.predict(pd.concat([X_test,X_train]))})"
   ]
  },
  {
   "cell_type": "code",
   "execution_count": null,
   "id": "57d30e13-c27b-4b94-9493-c2fafc8e713d",
   "metadata": {},
   "outputs": [],
   "source": [
    "res.head()"
   ]
  },
  {
   "cell_type": "code",
   "execution_count": null,
   "id": "c2947fc5-b506-40cd-a61c-e8fc961d76e7",
   "metadata": {},
   "outputs": [],
   "source": [
    "res['Time'] = df.Time.copy()"
   ]
  },
  {
   "cell_type": "code",
   "execution_count": null,
   "id": "317b5ece-583b-4b4d-ac21-1d150c8eed42",
   "metadata": {},
   "outputs": [],
   "source": [
    "res = res.sort_values(by='Time')"
   ]
  },
  {
   "cell_type": "code",
   "execution_count": null,
   "id": "86323213-340c-415c-a503-0efb09238200",
   "metadata": {},
   "outputs": [],
   "source": [
    "sns.set()\n",
    "plt.figure(figsize=(14,9))\n",
    "plt.plot(res['Time'],res['Real'])\n",
    "plt.plot(res['Time'],res['Pred'])\n",
    "plt.legend(['Real','Pred'])"
   ]
  },
  {
   "cell_type": "markdown",
   "id": "8bc6b290-6dbe-44f0-9ba3-63f39d37f7ed",
   "metadata": {},
   "source": [
    "for i in range(10,201,10):\n",
    "    clf = RandomForestRegressor(n_estimators=i,max_features='sqrt',max_depth=2,min_samples_leaf=2,min_samples_split=9)\n",
    "    clf.fit(X_train,Y_train)\n",
    "    \n",
    "    res = pd.DataFrame({'Real':pd.concat([Y_test,Y_train]),'Pred':clf.predict(pd.concat([X_test,X_train]))})\n",
    "    res['Time'] = df.Time.copy()\n",
    "    res = res.sort_values(by='Time')\n",
    "    \n",
    "    plt.figure(figsize=(7,4))\n",
    "    plt.plot(res['Time'],res['Real'])\n",
    "    plt.plot(res['Time'],res['Pred'])\n",
    "    plt.legend(['Real','Pred'])\n",
    "    plt.title(f'n_estimators={i}\\nTrain score: {clf.score(X_train,Y_train)}\\nTest score: {clf.score(X_test,Y_test)}')\n",
    "    #print(f'Train score: {clf.score(X_train,Y_train)}')\n",
    "    #print(f'Test score: {clf.score(X_test,Y_test)}')"
   ]
  },
  {
   "cell_type": "code",
   "execution_count": null,
   "id": "c7015930-0c6a-420c-ba62-39ef19b9d4a0",
   "metadata": {},
   "outputs": [],
   "source": [
    "clf = RandomForestRegressor(n_estimators=100,max_features='sqrt',max_depth=5,min_samples_leaf=1,min_samples_split=2)\n",
    "clf.fit(X_train,Y_train)\n",
    "    \n",
    "res = pd.DataFrame({'Real':pd.concat([Y_test,Y_train]),'Pred':clf.predict(pd.concat([X_test,X_train]))})\n",
    "res['Time'] = df.Time.copy()\n",
    "res = res.sort_values(by='Time')"
   ]
  },
  {
   "cell_type": "code",
   "execution_count": null,
   "id": "3c25c521-deaa-48f7-a4a2-fd5c77b3bd6f",
   "metadata": {},
   "outputs": [],
   "source": [
    "res.head()"
   ]
  },
  {
   "cell_type": "code",
   "execution_count": null,
   "id": "28b8b89a-63c9-4d4e-b53e-58e4c7248c39",
   "metadata": {},
   "outputs": [],
   "source": [
    "plt.figure(figsize=(14,9))\n",
    "w=np.hanning(45)\n",
    "y2=np.convolve(w/w.sum(),res['Pred'],mode='same')\n",
    "y1=np.convolve(w/w.sum(),res['Real'],mode='same')\n",
    "plt.plot(res['Time'],res['Real'],marker='o')\n",
    "plt.plot(res['Time'],y2)\n",
    "plt.legend(['Real','Pred_smooth'])\n",
    "plt.title(f'Train score: {clf.score(X_train,Y_train)}\\nTest score: {clf.score(X_test,Y_test)}')"
   ]
  },
  {
   "cell_type": "code",
   "execution_count": null,
   "id": "bbaf64ef-194a-4525-bdf4-8d87dca8a278",
   "metadata": {},
   "outputs": [],
   "source": [
    "df[df['Time'].between('2021-01-01','2023-01-01')]"
   ]
  },
  {
   "cell_type": "code",
   "execution_count": 45,
   "id": "b4b4e8ed-f581-4458-b9b7-967627ce664a",
   "metadata": {},
   "outputs": [],
   "source": [
    "def plot_validation_curves(estimator, X, y, param_name, param_range, cv):\n",
    "    train_scores, test_scores = validation_curve(\n",
    "        estimator=estimator,\n",
    "        X=X,\n",
    "        y=y,\n",
    "        param_name=param_name,\n",
    "        param_range=param_range,\n",
    "        cv=cv,\n",
    "    )\n",
    "    train_mean = np.mean(train_scores, axis=1)\n",
    "    test_mean = np.mean(test_scores, axis=1)\n",
    "\n",
    "    fig = go.Figure()\n",
    "\n",
    "    fig.add_trace(\n",
    "        go.Scatter(\n",
    "            x=param_range,\n",
    "            y=train_mean,\n",
    "            name=\"Training Accuracy\",\n",
    "            mode=\"lines\",\n",
    "            line=dict(color=\"Blue\"),\n",
    "        )\n",
    "    )\n",
    "\n",
    "    fig.add_trace(\n",
    "        go.Scatter(\n",
    "            x=param_range,\n",
    "            y=test_mean,\n",
    "            name=\"Validation Accuracy\",\n",
    "            mode=\"lines\",\n",
    "            line=dict(color=\"Green\"),\n",
    "        )\n",
    "    )\n",
    "\n",
    "    fig.update_layout(\n",
    "        title=\"Validation Curves\", xaxis_title=param_name, yaxis_title=\"Accuracy\"\n",
    "    )\n",
    "\n",
    "    fig.show()"
   ]
  },
  {
   "cell_type": "markdown",
   "id": "2036116d-7e14-4c2f-add6-d58a31cc17f6",
   "metadata": {},
   "source": [
    "# Tune parameters"
   ]
  },
  {
   "cell_type": "code",
   "execution_count": null,
   "id": "fea61e59-a240-4c06-afeb-145404b0a34a",
   "metadata": {},
   "outputs": [
    {
     "ename": "NameError",
     "evalue": "name 'RandomForestRegressor' is not defined",
     "output_type": "error",
     "traceback": [
      "\u001b[1;31m---------------------------------------------------------------------------\u001b[0m",
      "\u001b[1;31mNameError\u001b[0m                                 Traceback (most recent call last)",
      "\u001b[1;32m~\\AppData\\Local\\Temp/ipykernel_2412/3250928324.py\u001b[0m in \u001b[0;36m<module>\u001b[1;34m\u001b[0m\n\u001b[0;32m      1\u001b[0m \u001b[1;32mfrom\u001b[0m \u001b[0msklearn\u001b[0m\u001b[1;33m.\u001b[0m\u001b[0mmodel_selection\u001b[0m \u001b[1;32mimport\u001b[0m \u001b[0mRandomizedSearchCV\u001b[0m\u001b[1;33m\u001b[0m\u001b[1;33m\u001b[0m\u001b[0m\n\u001b[0;32m      2\u001b[0m \u001b[1;33m\u001b[0m\u001b[0m\n\u001b[1;32m----> 3\u001b[1;33m \u001b[0mrf\u001b[0m \u001b[1;33m=\u001b[0m \u001b[0mRandomForestRegressor\u001b[0m\u001b[1;33m(\u001b[0m\u001b[0mrandom_state\u001b[0m \u001b[1;33m=\u001b[0m \u001b[1;36m42\u001b[0m\u001b[1;33m)\u001b[0m\u001b[1;33m\u001b[0m\u001b[1;33m\u001b[0m\u001b[0m\n\u001b[0m\u001b[0;32m      4\u001b[0m \u001b[1;31m# Number of trees in random forest\u001b[0m\u001b[1;33m\u001b[0m\u001b[1;33m\u001b[0m\u001b[0m\n\u001b[0;32m      5\u001b[0m \u001b[0mn_estimators\u001b[0m \u001b[1;33m=\u001b[0m \u001b[1;33m[\u001b[0m\u001b[0mint\u001b[0m\u001b[1;33m(\u001b[0m\u001b[0mx\u001b[0m\u001b[1;33m)\u001b[0m \u001b[1;32mfor\u001b[0m \u001b[0mx\u001b[0m \u001b[1;32min\u001b[0m \u001b[0mnp\u001b[0m\u001b[1;33m.\u001b[0m\u001b[0mlinspace\u001b[0m\u001b[1;33m(\u001b[0m\u001b[0mstart\u001b[0m \u001b[1;33m=\u001b[0m \u001b[1;36m100\u001b[0m\u001b[1;33m,\u001b[0m \u001b[0mstop\u001b[0m \u001b[1;33m=\u001b[0m \u001b[1;36m2000\u001b[0m\u001b[1;33m,\u001b[0m \u001b[0mnum\u001b[0m \u001b[1;33m=\u001b[0m \u001b[1;36m10\u001b[0m\u001b[1;33m)\u001b[0m\u001b[1;33m]\u001b[0m\u001b[1;33m\u001b[0m\u001b[1;33m\u001b[0m\u001b[0m\n",
      "\u001b[1;31mNameError\u001b[0m: name 'RandomForestRegressor' is not defined"
     ]
    }
   ],
   "source": [
    "from sklearn.model_selection import RandomizedSearchCV\n",
    "\n",
    "rf = RandomForestRegressor(random_state = 42)\n",
    "# Number of trees in random forest\n",
    "n_estimators = [int(x) for x in np.linspace(start = 100, stop = 2000, num = 10)]\n",
    "# Number of features to consider at every split\n",
    "max_features = ['auto', 'sqrt']\n",
    "# Maximum number of levels in tree\n",
    "max_depth = [int(x) for x in np.linspace(10, 110, num = 11)]\n",
    "max_depth.append(None)\n",
    "# Minimum number of samples required to split a node\n",
    "min_samples_split = [2, 5, 10]\n",
    "# Minimum number of samples required at each leaf node\n",
    "min_samples_leaf = [1, 2, 4]\n",
    "# Method of selecting samples for training each tree\n",
    "bootstrap = [True, False]\n",
    "# Create the random grid\n",
    "random_grid = {'n_estimators': n_estimators,\n",
    "               'max_features': max_features,\n",
    "               'max_depth': max_depth,\n",
    "               'min_samples_split': min_samples_split,\n",
    "               'min_samples_leaf': min_samples_leaf,\n",
    "               'bootstrap': bootstrap}\n",
    "print(random_grid)"
   ]
  },
  {
   "cell_type": "code",
   "execution_count": 65,
   "id": "4710bf6e-acc2-48bc-aa04-87ca9a5eba2a",
   "metadata": {},
   "outputs": [
    {
     "name": "stdout",
     "output_type": "stream",
     "text": [
      "Fitting 3 folds for each of 100 candidates, totalling 300 fits\n"
     ]
    },
    {
     "data": {
      "text/plain": [
       "RandomizedSearchCV(cv=3, estimator=RandomForestRegressor(random_state=42),\n",
       "                   n_iter=100, n_jobs=-1,\n",
       "                   param_distributions={'bootstrap': [True, False],\n",
       "                                        'max_depth': [10, 20, 30, 40, 50, 60,\n",
       "                                                      70, 80, 90, 100, 110,\n",
       "                                                      None],\n",
       "                                        'max_features': ['auto', 'sqrt'],\n",
       "                                        'min_samples_leaf': [1, 2, 4],\n",
       "                                        'min_samples_split': [2, 5, 10],\n",
       "                                        'n_estimators': [100, 311, 522, 733,\n",
       "                                                         944, 1155, 1366, 1577,\n",
       "                                                         1788, 2000]},\n",
       "                   random_state=42, verbose=2)"
      ]
     },
     "execution_count": 65,
     "metadata": {},
     "output_type": "execute_result"
    }
   ],
   "source": [
    "rf_random = RandomizedSearchCV(estimator = rf, param_distributions = random_grid, n_iter = 100, cv = 3, verbose=2, random_state=42, n_jobs = -1)\n",
    "rf_random.fit(X_train, Y_train)"
   ]
  },
  {
   "cell_type": "code",
   "execution_count": 67,
   "id": "0db57dfc-34a4-457f-8b33-9e14ddbd12ac",
   "metadata": {},
   "outputs": [],
   "source": [
    "def evaluate(model, test_features, test_labels):\n",
    "    predictions = model.predict(test_features)\n",
    "    errors = abs(predictions - test_labels)\n",
    "    mape = 100 * np.mean(errors / test_labels)\n",
    "    accuracy = 100 - mape\n",
    "    print('Model Performance')\n",
    "    print('Average Error: {:0.4f} degrees.'.format(np.mean(errors)))\n",
    "    print('Accuracy = {:0.2f}%.'.format(accuracy))\n",
    "    \n",
    "    return accuracy"
   ]
  },
  {
   "cell_type": "code",
   "execution_count": 68,
   "id": "d0334268-3160-48de-a248-56a640a12072",
   "metadata": {},
   "outputs": [
    {
     "name": "stdout",
     "output_type": "stream",
     "text": [
      "Model Performance\n",
      "Average Error: 0.0106 degrees.\n",
      "Accuracy = 84.72%.\n",
      "Model Performance\n",
      "Average Error: 0.0137 degrees.\n",
      "Accuracy = 77.57%.\n"
     ]
    }
   ],
   "source": [
    "base_model = RandomForestRegressor(n_estimators = 10, random_state = 42)\n",
    "base_model.fit(X_train, Y_train)\n",
    "base_accuracy = evaluate(base_model, X_test, Y_test)\n",
    "\n",
    "best_random = rf_random.best_estimator_\n",
    "random_accuracy = evaluate(best_random, X_test, Y_test)"
   ]
  },
  {
   "cell_type": "code",
   "execution_count": 69,
   "id": "45a9f11e-23a7-4d14-89d1-fe2a161b165e",
   "metadata": {},
   "outputs": [],
   "source": [
    "from sklearn.model_selection import GridSearchCV\n",
    "# Create the parameter grid based on the results of random search \n",
    "param_grid = {\n",
    "    'bootstrap': [True],\n",
    "    'max_depth': [80, 90, 100, 110],\n",
    "    'max_features': [2, 3],\n",
    "    'min_samples_leaf': [3, 4, 5],\n",
    "    'min_samples_split': [8, 10, 12],\n",
    "    'n_estimators': [100, 200, 300, 1000]\n",
    "}\n",
    "# Create a based model\n",
    "rf = RandomForestRegressor()\n",
    "# Instantiate the grid search model\n",
    "grid_search = GridSearchCV(estimator = rf, param_grid = param_grid, \n",
    "                          cv = 3, n_jobs = -1, verbose = 2)"
   ]
  },
  {
   "cell_type": "code",
   "execution_count": null,
   "id": "6755addb-b1d7-4d3d-a4da-5d5c7b90ffb8",
   "metadata": {},
   "outputs": [],
   "source": [
    "grid_search.fit(X_train, Y_train)\n",
    "best_grid = grid_search.best_estimator_"
   ]
  },
  {
   "cell_type": "code",
   "execution_count": 71,
   "id": "ea302fdf-7ebc-42e5-a42d-d5cd1a0c51a2",
   "metadata": {},
   "outputs": [
    {
     "name": "stdout",
     "output_type": "stream",
     "text": [
      "Model Performance\n",
      "Average Error: 0.0188 degrees.\n",
      "Accuracy = 72.83%.\n"
     ]
    }
   ],
   "source": [
    "grid_accuracy = evaluate(best_grid, X_test, Y_test)"
   ]
  },
  {
   "cell_type": "code",
   "execution_count": null,
   "id": "ae8a47c6-d5c1-4647-9560-baf2d35455b4",
   "metadata": {},
   "outputs": [
    {
     "data": {
      "application/vnd.plotly.v1+json": {
       "config": {
        "plotlyServerURL": "https://plot.ly"
       },
       "data": [
        {
         "line": {
          "color": "Blue"
         },
         "mode": "lines",
         "name": "Training Accuracy",
         "type": "scatter",
         "x": [
          1,
          2,
          3,
          4,
          5,
          6,
          7,
          8,
          9
         ],
         "y": [
          1,
          0.8863681527129481,
          0.8245569551438219,
          0.7669579548450975,
          0.7010239843131989,
          0.6697286147501322,
          0.6345442926149082,
          0.599924651381136,
          0.5651568137421694
         ]
        },
        {
         "line": {
          "color": "Green"
         },
         "mode": "lines",
         "name": "Validation Accuracy",
         "type": "scatter",
         "x": [
          1,
          2,
          3,
          4,
          5,
          6,
          7,
          8,
          9
         ],
         "y": [
          0.6149490770948672,
          0.5694281511901874,
          0.6654584130349951,
          0.6842924630492307,
          0.546208982982402,
          0.4872082750808698,
          0.4910608119631267,
          0.4992019239375711,
          0.46673717168283363
         ]
        }
       ],
       "layout": {
        "autosize": true,
        "template": {
         "data": {
          "bar": [
           {
            "error_x": {
             "color": "#2a3f5f"
            },
            "error_y": {
             "color": "#2a3f5f"
            },
            "marker": {
             "line": {
              "color": "#E5ECF6",
              "width": 0.5
             },
             "pattern": {
              "fillmode": "overlay",
              "size": 10,
              "solidity": 0.2
             }
            },
            "type": "bar"
           }
          ],
          "barpolar": [
           {
            "marker": {
             "line": {
              "color": "#E5ECF6",
              "width": 0.5
             },
             "pattern": {
              "fillmode": "overlay",
              "size": 10,
              "solidity": 0.2
             }
            },
            "type": "barpolar"
           }
          ],
          "carpet": [
           {
            "aaxis": {
             "endlinecolor": "#2a3f5f",
             "gridcolor": "white",
             "linecolor": "white",
             "minorgridcolor": "white",
             "startlinecolor": "#2a3f5f"
            },
            "baxis": {
             "endlinecolor": "#2a3f5f",
             "gridcolor": "white",
             "linecolor": "white",
             "minorgridcolor": "white",
             "startlinecolor": "#2a3f5f"
            },
            "type": "carpet"
           }
          ],
          "choropleth": [
           {
            "colorbar": {
             "outlinewidth": 0,
             "ticks": ""
            },
            "type": "choropleth"
           }
          ],
          "contour": [
           {
            "colorbar": {
             "outlinewidth": 0,
             "ticks": ""
            },
            "colorscale": [
             [
              0,
              "#0d0887"
             ],
             [
              0.1111111111111111,
              "#46039f"
             ],
             [
              0.2222222222222222,
              "#7201a8"
             ],
             [
              0.3333333333333333,
              "#9c179e"
             ],
             [
              0.4444444444444444,
              "#bd3786"
             ],
             [
              0.5555555555555556,
              "#d8576b"
             ],
             [
              0.6666666666666666,
              "#ed7953"
             ],
             [
              0.7777777777777778,
              "#fb9f3a"
             ],
             [
              0.8888888888888888,
              "#fdca26"
             ],
             [
              1,
              "#f0f921"
             ]
            ],
            "type": "contour"
           }
          ],
          "contourcarpet": [
           {
            "colorbar": {
             "outlinewidth": 0,
             "ticks": ""
            },
            "type": "contourcarpet"
           }
          ],
          "heatmap": [
           {
            "colorbar": {
             "outlinewidth": 0,
             "ticks": ""
            },
            "colorscale": [
             [
              0,
              "#0d0887"
             ],
             [
              0.1111111111111111,
              "#46039f"
             ],
             [
              0.2222222222222222,
              "#7201a8"
             ],
             [
              0.3333333333333333,
              "#9c179e"
             ],
             [
              0.4444444444444444,
              "#bd3786"
             ],
             [
              0.5555555555555556,
              "#d8576b"
             ],
             [
              0.6666666666666666,
              "#ed7953"
             ],
             [
              0.7777777777777778,
              "#fb9f3a"
             ],
             [
              0.8888888888888888,
              "#fdca26"
             ],
             [
              1,
              "#f0f921"
             ]
            ],
            "type": "heatmap"
           }
          ],
          "heatmapgl": [
           {
            "colorbar": {
             "outlinewidth": 0,
             "ticks": ""
            },
            "colorscale": [
             [
              0,
              "#0d0887"
             ],
             [
              0.1111111111111111,
              "#46039f"
             ],
             [
              0.2222222222222222,
              "#7201a8"
             ],
             [
              0.3333333333333333,
              "#9c179e"
             ],
             [
              0.4444444444444444,
              "#bd3786"
             ],
             [
              0.5555555555555556,
              "#d8576b"
             ],
             [
              0.6666666666666666,
              "#ed7953"
             ],
             [
              0.7777777777777778,
              "#fb9f3a"
             ],
             [
              0.8888888888888888,
              "#fdca26"
             ],
             [
              1,
              "#f0f921"
             ]
            ],
            "type": "heatmapgl"
           }
          ],
          "histogram": [
           {
            "marker": {
             "pattern": {
              "fillmode": "overlay",
              "size": 10,
              "solidity": 0.2
             }
            },
            "type": "histogram"
           }
          ],
          "histogram2d": [
           {
            "colorbar": {
             "outlinewidth": 0,
             "ticks": ""
            },
            "colorscale": [
             [
              0,
              "#0d0887"
             ],
             [
              0.1111111111111111,
              "#46039f"
             ],
             [
              0.2222222222222222,
              "#7201a8"
             ],
             [
              0.3333333333333333,
              "#9c179e"
             ],
             [
              0.4444444444444444,
              "#bd3786"
             ],
             [
              0.5555555555555556,
              "#d8576b"
             ],
             [
              0.6666666666666666,
              "#ed7953"
             ],
             [
              0.7777777777777778,
              "#fb9f3a"
             ],
             [
              0.8888888888888888,
              "#fdca26"
             ],
             [
              1,
              "#f0f921"
             ]
            ],
            "type": "histogram2d"
           }
          ],
          "histogram2dcontour": [
           {
            "colorbar": {
             "outlinewidth": 0,
             "ticks": ""
            },
            "colorscale": [
             [
              0,
              "#0d0887"
             ],
             [
              0.1111111111111111,
              "#46039f"
             ],
             [
              0.2222222222222222,
              "#7201a8"
             ],
             [
              0.3333333333333333,
              "#9c179e"
             ],
             [
              0.4444444444444444,
              "#bd3786"
             ],
             [
              0.5555555555555556,
              "#d8576b"
             ],
             [
              0.6666666666666666,
              "#ed7953"
             ],
             [
              0.7777777777777778,
              "#fb9f3a"
             ],
             [
              0.8888888888888888,
              "#fdca26"
             ],
             [
              1,
              "#f0f921"
             ]
            ],
            "type": "histogram2dcontour"
           }
          ],
          "mesh3d": [
           {
            "colorbar": {
             "outlinewidth": 0,
             "ticks": ""
            },
            "type": "mesh3d"
           }
          ],
          "parcoords": [
           {
            "line": {
             "colorbar": {
              "outlinewidth": 0,
              "ticks": ""
             }
            },
            "type": "parcoords"
           }
          ],
          "pie": [
           {
            "automargin": true,
            "type": "pie"
           }
          ],
          "scatter": [
           {
            "fillpattern": {
             "fillmode": "overlay",
             "size": 10,
             "solidity": 0.2
            },
            "type": "scatter"
           }
          ],
          "scatter3d": [
           {
            "line": {
             "colorbar": {
              "outlinewidth": 0,
              "ticks": ""
             }
            },
            "marker": {
             "colorbar": {
              "outlinewidth": 0,
              "ticks": ""
             }
            },
            "type": "scatter3d"
           }
          ],
          "scattercarpet": [
           {
            "marker": {
             "colorbar": {
              "outlinewidth": 0,
              "ticks": ""
             }
            },
            "type": "scattercarpet"
           }
          ],
          "scattergeo": [
           {
            "marker": {
             "colorbar": {
              "outlinewidth": 0,
              "ticks": ""
             }
            },
            "type": "scattergeo"
           }
          ],
          "scattergl": [
           {
            "marker": {
             "colorbar": {
              "outlinewidth": 0,
              "ticks": ""
             }
            },
            "type": "scattergl"
           }
          ],
          "scattermapbox": [
           {
            "marker": {
             "colorbar": {
              "outlinewidth": 0,
              "ticks": ""
             }
            },
            "type": "scattermapbox"
           }
          ],
          "scatterpolar": [
           {
            "marker": {
             "colorbar": {
              "outlinewidth": 0,
              "ticks": ""
             }
            },
            "type": "scatterpolar"
           }
          ],
          "scatterpolargl": [
           {
            "marker": {
             "colorbar": {
              "outlinewidth": 0,
              "ticks": ""
             }
            },
            "type": "scatterpolargl"
           }
          ],
          "scatterternary": [
           {
            "marker": {
             "colorbar": {
              "outlinewidth": 0,
              "ticks": ""
             }
            },
            "type": "scatterternary"
           }
          ],
          "surface": [
           {
            "colorbar": {
             "outlinewidth": 0,
             "ticks": ""
            },
            "colorscale": [
             [
              0,
              "#0d0887"
             ],
             [
              0.1111111111111111,
              "#46039f"
             ],
             [
              0.2222222222222222,
              "#7201a8"
             ],
             [
              0.3333333333333333,
              "#9c179e"
             ],
             [
              0.4444444444444444,
              "#bd3786"
             ],
             [
              0.5555555555555556,
              "#d8576b"
             ],
             [
              0.6666666666666666,
              "#ed7953"
             ],
             [
              0.7777777777777778,
              "#fb9f3a"
             ],
             [
              0.8888888888888888,
              "#fdca26"
             ],
             [
              1,
              "#f0f921"
             ]
            ],
            "type": "surface"
           }
          ],
          "table": [
           {
            "cells": {
             "fill": {
              "color": "#EBF0F8"
             },
             "line": {
              "color": "white"
             }
            },
            "header": {
             "fill": {
              "color": "#C8D4E3"
             },
             "line": {
              "color": "white"
             }
            },
            "type": "table"
           }
          ]
         },
         "layout": {
          "annotationdefaults": {
           "arrowcolor": "#2a3f5f",
           "arrowhead": 0,
           "arrowwidth": 1
          },
          "autotypenumbers": "strict",
          "coloraxis": {
           "colorbar": {
            "outlinewidth": 0,
            "ticks": ""
           }
          },
          "colorscale": {
           "diverging": [
            [
             0,
             "#8e0152"
            ],
            [
             0.1,
             "#c51b7d"
            ],
            [
             0.2,
             "#de77ae"
            ],
            [
             0.3,
             "#f1b6da"
            ],
            [
             0.4,
             "#fde0ef"
            ],
            [
             0.5,
             "#f7f7f7"
            ],
            [
             0.6,
             "#e6f5d0"
            ],
            [
             0.7,
             "#b8e186"
            ],
            [
             0.8,
             "#7fbc41"
            ],
            [
             0.9,
             "#4d9221"
            ],
            [
             1,
             "#276419"
            ]
           ],
           "sequential": [
            [
             0,
             "#0d0887"
            ],
            [
             0.1111111111111111,
             "#46039f"
            ],
            [
             0.2222222222222222,
             "#7201a8"
            ],
            [
             0.3333333333333333,
             "#9c179e"
            ],
            [
             0.4444444444444444,
             "#bd3786"
            ],
            [
             0.5555555555555556,
             "#d8576b"
            ],
            [
             0.6666666666666666,
             "#ed7953"
            ],
            [
             0.7777777777777778,
             "#fb9f3a"
            ],
            [
             0.8888888888888888,
             "#fdca26"
            ],
            [
             1,
             "#f0f921"
            ]
           ],
           "sequentialminus": [
            [
             0,
             "#0d0887"
            ],
            [
             0.1111111111111111,
             "#46039f"
            ],
            [
             0.2222222222222222,
             "#7201a8"
            ],
            [
             0.3333333333333333,
             "#9c179e"
            ],
            [
             0.4444444444444444,
             "#bd3786"
            ],
            [
             0.5555555555555556,
             "#d8576b"
            ],
            [
             0.6666666666666666,
             "#ed7953"
            ],
            [
             0.7777777777777778,
             "#fb9f3a"
            ],
            [
             0.8888888888888888,
             "#fdca26"
            ],
            [
             1,
             "#f0f921"
            ]
           ]
          },
          "colorway": [
           "#636efa",
           "#EF553B",
           "#00cc96",
           "#ab63fa",
           "#FFA15A",
           "#19d3f3",
           "#FF6692",
           "#B6E880",
           "#FF97FF",
           "#FECB52"
          ],
          "font": {
           "color": "#2a3f5f"
          },
          "geo": {
           "bgcolor": "white",
           "lakecolor": "white",
           "landcolor": "#E5ECF6",
           "showlakes": true,
           "showland": true,
           "subunitcolor": "white"
          },
          "hoverlabel": {
           "align": "left"
          },
          "hovermode": "closest",
          "mapbox": {
           "style": "light"
          },
          "paper_bgcolor": "white",
          "plot_bgcolor": "#E5ECF6",
          "polar": {
           "angularaxis": {
            "gridcolor": "white",
            "linecolor": "white",
            "ticks": ""
           },
           "bgcolor": "#E5ECF6",
           "radialaxis": {
            "gridcolor": "white",
            "linecolor": "white",
            "ticks": ""
           }
          },
          "scene": {
           "xaxis": {
            "backgroundcolor": "#E5ECF6",
            "gridcolor": "white",
            "gridwidth": 2,
            "linecolor": "white",
            "showbackground": true,
            "ticks": "",
            "zerolinecolor": "white"
           },
           "yaxis": {
            "backgroundcolor": "#E5ECF6",
            "gridcolor": "white",
            "gridwidth": 2,
            "linecolor": "white",
            "showbackground": true,
            "ticks": "",
            "zerolinecolor": "white"
           },
           "zaxis": {
            "backgroundcolor": "#E5ECF6",
            "gridcolor": "white",
            "gridwidth": 2,
            "linecolor": "white",
            "showbackground": true,
            "ticks": "",
            "zerolinecolor": "white"
           }
          },
          "shapedefaults": {
           "line": {
            "color": "#2a3f5f"
           }
          },
          "ternary": {
           "aaxis": {
            "gridcolor": "white",
            "linecolor": "white",
            "ticks": ""
           },
           "baxis": {
            "gridcolor": "white",
            "linecolor": "white",
            "ticks": ""
           },
           "bgcolor": "#E5ECF6",
           "caxis": {
            "gridcolor": "white",
            "linecolor": "white",
            "ticks": ""
           }
          },
          "title": {
           "x": 0.05
          },
          "xaxis": {
           "automargin": true,
           "gridcolor": "white",
           "linecolor": "white",
           "ticks": "",
           "title": {
            "standoff": 15
           },
           "zerolinecolor": "white",
           "zerolinewidth": 2
          },
          "yaxis": {
           "automargin": true,
           "gridcolor": "white",
           "linecolor": "white",
           "ticks": "",
           "title": {
            "standoff": 15
           },
           "zerolinecolor": "white",
           "zerolinewidth": 2
          }
         }
        },
        "title": {
         "text": "Validation Curves"
        },
        "xaxis": {
         "autorange": true,
         "range": [
          1,
          9
         ],
         "title": {
          "text": "n_neighbors"
         },
         "type": "linear"
        },
        "yaxis": {
         "autorange": true,
         "range": [
          0.4371114589985466,
          1.029625712684287
         ],
         "title": {
          "text": "Accuracy"
         },
         "type": "linear"
        }
       }
      },
      "image/png": "[encoded data removed]",
      "text/html": [
       "<div>                            <div id=\"a161b8ae-5052-4ca4-9e04-fdab108dd5a3\" class=\"plotly-graph-div\" style=\"height:525px; width:100%;\"></div>            <script type=\"text/javascript\">                require([\"plotly\"], function(Plotly) {                    window.PLOTLYENV=window.PLOTLYENV || {};                                    if (document.getElementById(\"a161b8ae-5052-4ca4-9e04-fdab108dd5a3\")) {                    Plotly.newPlot(                        \"a161b8ae-5052-4ca4-9e04-fdab108dd5a3\",                        [{\"line\":{\"color\":\"Blue\"},\"mode\":\"lines\",\"name\":\"Training Accuracy\",\"x\":[1,2,3,4,5,6,7,8,9],\"y\":[1.0,0.8863681527129481,0.8245569551438219,0.7669579548450975,0.7010239843131989,0.6697286147501322,0.6345442926149082,0.599924651381136,0.5651568137421694],\"type\":\"scatter\"},{\"line\":{\"color\":\"Green\"},\"mode\":\"lines\",\"name\":\"Validation Accuracy\",\"x\":[1,2,3,4,5,6,7,8,9],\"y\":[0.6149490770948672,0.5694281511901874,0.6654584130349951,0.6842924630492307,0.546208982982402,0.4872082750808698,0.4910608119631267,0.4992019239375711,0.46673717168283363],\"type\":\"scatter\"}],                        {\"template\":{\"data\":{\"histogram2dcontour\":[{\"type\":\"histogram2dcontour\",\"colorbar\":{\"outlinewidth\":0,\"ticks\":\"\"},\"colorscale\":[[0.0,\"#0d0887\"],[0.1111111111111111,\"#46039f\"],[0.2222222222222222,\"#7201a8\"],[0.3333333333333333,\"#9c179e\"],[0.4444444444444444,\"#bd3786\"],[0.5555555555555556,\"#d8576b\"],[0.6666666666666666,\"#ed7953\"],[0.7777777777777778,\"#fb9f3a\"],[0.8888888888888888,\"#fdca26\"],[1.0,\"#f0f921\"]]}],\"choropleth\":[{\"type\":\"choropleth\",\"colorbar\":{\"outlinewidth\":0,\"ticks\":\"\"}}],\"histogram2d\":[{\"type\":\"histogram2d\",\"colorbar\":{\"outlinewidth\":0,\"ticks\":\"\"},\"colorscale\":[[0.0,\"#0d0887\"],[0.1111111111111111,\"#46039f\"],[0.2222222222222222,\"#7201a8\"],[0.3333333333333333,\"#9c179e\"],[0.4444444444444444,\"#bd3786\"],[0.5555555555555556,\"#d8576b\"],[0.6666666666666666,\"#ed7953\"],[0.7777777777777778,\"#fb9f3a\"],[0.8888888888888888,\"#fdca26\"],[1.0,\"#f0f921\"]]}],\"heatmap\":[{\"type\":\"heatmap\",\"colorbar\":{\"outlinewidth\":0,\"ticks\":\"\"},\"colorscale\":[[0.0,\"#0d0887\"],[0.1111111111111111,\"#46039f\"],[0.2222222222222222,\"#7201a8\"],[0.3333333333333333,\"#9c179e\"],[0.4444444444444444,\"#bd3786\"],[0.5555555555555556,\"#d8576b\"],[0.6666666666666666,\"#ed7953\"],[0.7777777777777778,\"#fb9f3a\"],[0.8888888888888888,\"#fdca26\"],[1.0,\"#f0f921\"]]}],\"heatmapgl\":[{\"type\":\"heatmapgl\",\"colorbar\":{\"outlinewidth\":0,\"ticks\":\"\"},\"colorscale\":[[0.0,\"#0d0887\"],[0.1111111111111111,\"#46039f\"],[0.2222222222222222,\"#7201a8\"],[0.3333333333333333,\"#9c179e\"],[0.4444444444444444,\"#bd3786\"],[0.5555555555555556,\"#d8576b\"],[0.6666666666666666,\"#ed7953\"],[0.7777777777777778,\"#fb9f3a\"],[0.8888888888888888,\"#fdca26\"],[1.0,\"#f0f921\"]]}],\"contourcarpet\":[{\"type\":\"contourcarpet\",\"colorbar\":{\"outlinewidth\":0,\"ticks\":\"\"}}],\"contour\":[{\"type\":\"contour\",\"colorbar\":{\"outlinewidth\":0,\"ticks\":\"\"},\"colorscale\":[[0.0,\"#0d0887\"],[0.1111111111111111,\"#46039f\"],[0.2222222222222222,\"#7201a8\"],[0.3333333333333333,\"#9c179e\"],[0.4444444444444444,\"#bd3786\"],[0.5555555555555556,\"#d8576b\"],[0.6666666666666666,\"#ed7953\"],[0.7777777777777778,\"#fb9f3a\"],[0.8888888888888888,\"#fdca26\"],[1.0,\"#f0f921\"]]}],\"surface\":[{\"type\":\"surface\",\"colorbar\":{\"outlinewidth\":0,\"ticks\":\"\"},\"colorscale\":[[0.0,\"#0d0887\"],[0.1111111111111111,\"#46039f\"],[0.2222222222222222,\"#7201a8\"],[0.3333333333333333,\"#9c179e\"],[0.4444444444444444,\"#bd3786\"],[0.5555555555555556,\"#d8576b\"],[0.6666666666666666,\"#ed7953\"],[0.7777777777777778,\"#fb9f3a\"],[0.8888888888888888,\"#fdca26\"],[1.0,\"#f0f921\"]]}],\"mesh3d\":[{\"type\":\"mesh3d\",\"colorbar\":{\"outlinewidth\":0,\"ticks\":\"\"}}],\"scatter\":[{\"fillpattern\":{\"fillmode\":\"overlay\",\"size\":10,\"solidity\":0.2},\"type\":\"scatter\"}],\"parcoords\":[{\"type\":\"parcoords\",\"line\":{\"colorbar\":{\"outlinewidth\":0,\"ticks\":\"\"}}}],\"scatterpolargl\":[{\"type\":\"scatterpolargl\",\"marker\":{\"colorbar\":{\"outlinewidth\":0,\"ticks\":\"\"}}}],\"bar\":[{\"error_x\":{\"color\":\"#2a3f5f\"},\"error_y\":{\"color\":\"#2a3f5f\"},\"marker\":{\"line\":{\"color\":\"#E5ECF6\",\"width\":0.5},\"pattern\":{\"fillmode\":\"overlay\",\"size\":10,\"solidity\":0.2}},\"type\":\"bar\"}],\"scattergeo\":[{\"type\":\"scattergeo\",\"marker\":{\"colorbar\":{\"outlinewidth\":0,\"ticks\":\"\"}}}],\"scatterpolar\":[{\"type\":\"scatterpolar\",\"marker\":{\"colorbar\":{\"outlinewidth\":0,\"ticks\":\"\"}}}],\"histogram\":[{\"marker\":{\"pattern\":{\"fillmode\":\"overlay\",\"size\":10,\"solidity\":0.2}},\"type\":\"histogram\"}],\"scattergl\":[{\"type\":\"scattergl\",\"marker\":{\"colorbar\":{\"outlinewidth\":0,\"ticks\":\"\"}}}],\"scatter3d\":[{\"type\":\"scatter3d\",\"line\":{\"colorbar\":{\"outlinewidth\":0,\"ticks\":\"\"}},\"marker\":{\"colorbar\":{\"outlinewidth\":0,\"ticks\":\"\"}}}],\"scattermapbox\":[{\"type\":\"scattermapbox\",\"marker\":{\"colorbar\":{\"outlinewidth\":0,\"ticks\":\"\"}}}],\"scatterternary\":[{\"type\":\"scatterternary\",\"marker\":{\"colorbar\":{\"outlinewidth\":0,\"ticks\":\"\"}}}],\"scattercarpet\":[{\"type\":\"scattercarpet\",\"marker\":{\"colorbar\":{\"outlinewidth\":0,\"ticks\":\"\"}}}],\"carpet\":[{\"aaxis\":{\"endlinecolor\":\"#2a3f5f\",\"gridcolor\":\"white\",\"linecolor\":\"white\",\"minorgridcolor\":\"white\",\"startlinecolor\":\"#2a3f5f\"},\"baxis\":{\"endlinecolor\":\"#2a3f5f\",\"gridcolor\":\"white\",\"linecolor\":\"white\",\"minorgridcolor\":\"white\",\"startlinecolor\":\"#2a3f5f\"},\"type\":\"carpet\"}],\"table\":[{\"cells\":{\"fill\":{\"color\":\"#EBF0F8\"},\"line\":{\"color\":\"white\"}},\"header\":{\"fill\":{\"color\":\"#C8D4E3\"},\"line\":{\"color\":\"white\"}},\"type\":\"table\"}],\"barpolar\":[{\"marker\":{\"line\":{\"color\":\"#E5ECF6\",\"width\":0.5},\"pattern\":{\"fillmode\":\"overlay\",\"size\":10,\"solidity\":0.2}},\"type\":\"barpolar\"}],\"pie\":[{\"automargin\":true,\"type\":\"pie\"}]},\"layout\":{\"autotypenumbers\":\"strict\",\"colorway\":[\"#636efa\",\"#EF553B\",\"#00cc96\",\"#ab63fa\",\"#FFA15A\",\"#19d3f3\",\"#FF6692\",\"#B6E880\",\"#FF97FF\",\"#FECB52\"],\"font\":{\"color\":\"#2a3f5f\"},\"hovermode\":\"closest\",\"hoverlabel\":{\"align\":\"left\"},\"paper_bgcolor\":\"white\",\"plot_bgcolor\":\"#E5ECF6\",\"polar\":{\"bgcolor\":\"#E5ECF6\",\"angularaxis\":{\"gridcolor\":\"white\",\"linecolor\":\"white\",\"ticks\":\"\"},\"radialaxis\":{\"gridcolor\":\"white\",\"linecolor\":\"white\",\"ticks\":\"\"}},\"ternary\":{\"bgcolor\":\"#E5ECF6\",\"aaxis\":{\"gridcolor\":\"white\",\"linecolor\":\"white\",\"ticks\":\"\"},\"baxis\":{\"gridcolor\":\"white\",\"linecolor\":\"white\",\"ticks\":\"\"},\"caxis\":{\"gridcolor\":\"white\",\"linecolor\":\"white\",\"ticks\":\"\"}},\"coloraxis\":{\"colorbar\":{\"outlinewidth\":0,\"ticks\":\"\"}},\"colorscale\":{\"sequential\":[[0.0,\"#0d0887\"],[0.1111111111111111,\"#46039f\"],[0.2222222222222222,\"#7201a8\"],[0.3333333333333333,\"#9c179e\"],[0.4444444444444444,\"#bd3786\"],[0.5555555555555556,\"#d8576b\"],[0.6666666666666666,\"#ed7953\"],[0.7777777777777778,\"#fb9f3a\"],[0.8888888888888888,\"#fdca26\"],[1.0,\"#f0f921\"]],\"sequentialminus\":[[0.0,\"#0d0887\"],[0.1111111111111111,\"#46039f\"],[0.2222222222222222,\"#7201a8\"],[0.3333333333333333,\"#9c179e\"],[0.4444444444444444,\"#bd3786\"],[0.5555555555555556,\"#d8576b\"],[0.6666666666666666,\"#ed7953\"],[0.7777777777777778,\"#fb9f3a\"],[0.8888888888888888,\"#fdca26\"],[1.0,\"#f0f921\"]],\"diverging\":[[0,\"#8e0152\"],[0.1,\"#c51b7d\"],[0.2,\"#de77ae\"],[0.3,\"#f1b6da\"],[0.4,\"#fde0ef\"],[0.5,\"#f7f7f7\"],[0.6,\"#e6f5d0\"],[0.7,\"#b8e186\"],[0.8,\"#7fbc41\"],[0.9,\"#4d9221\"],[1,\"#276419\"]]},\"xaxis\":{\"gridcolor\":\"white\",\"linecolor\":\"white\",\"ticks\":\"\",\"title\":{\"standoff\":15},\"zerolinecolor\":\"white\",\"automargin\":true,\"zerolinewidth\":2},\"yaxis\":{\"gridcolor\":\"white\",\"linecolor\":\"white\",\"ticks\":\"\",\"title\":{\"standoff\":15},\"zerolinecolor\":\"white\",\"automargin\":true,\"zerolinewidth\":2},\"scene\":{\"xaxis\":{\"backgroundcolor\":\"#E5ECF6\",\"gridcolor\":\"white\",\"linecolor\":\"white\",\"showbackground\":true,\"ticks\":\"\",\"zerolinecolor\":\"white\",\"gridwidth\":2},\"yaxis\":{\"backgroundcolor\":\"#E5ECF6\",\"gridcolor\":\"white\",\"linecolor\":\"white\",\"showbackground\":true,\"ticks\":\"\",\"zerolinecolor\":\"white\",\"gridwidth\":2},\"zaxis\":{\"backgroundcolor\":\"#E5ECF6\",\"gridcolor\":\"white\",\"linecolor\":\"white\",\"showbackground\":true,\"ticks\":\"\",\"zerolinecolor\":\"white\",\"gridwidth\":2}},\"shapedefaults\":{\"line\":{\"color\":\"#2a3f5f\"}},\"annotationdefaults\":{\"arrowcolor\":\"#2a3f5f\",\"arrowhead\":0,\"arrowwidth\":1},\"geo\":{\"bgcolor\":\"white\",\"landcolor\":\"#E5ECF6\",\"subunitcolor\":\"white\",\"showland\":true,\"showlakes\":true,\"lakecolor\":\"white\"},\"title\":{\"x\":0.05},\"mapbox\":{\"style\":\"light\"}}},\"title\":{\"text\":\"Validation Curves\"},\"xaxis\":{\"title\":{\"text\":\"n_neighbors\"}},\"yaxis\":{\"title\":{\"text\":\"Accuracy\"}}},                        {\"responsive\": true}                    ).then(function(){\n",
       "                            \n",
       "var gd = document.getElementById('a161b8ae-5052-4ca4-9e04-fdab108dd5a3');\n",
       "var x = new MutationObserver(function (mutations, observer) {{\n",
       "        var display = window.getComputedStyle(gd).display;\n",
       "        if (!display || display === 'none') {{\n",
       "            console.log([gd, 'removed!']);\n",
       "            Plotly.purge(gd);\n",
       "            observer.disconnect();\n",
       "        }}\n",
       "}});\n",
       "\n",
       "// Listen for the removal of the full notebook cells\n",
       "var notebookContainer = gd.closest('#notebook-container');\n",
       "if (notebookContainer) {{\n",
       "    x.observe(notebookContainer, {childList: true});\n",
       "}}\n",
       "\n",
       "// Listen for the clearing of the current output cell\n",
       "var outputEl = gd.closest('.output');\n",
       "if (outputEl) {{\n",
       "    x.observe(outputEl, {childList: true});\n",
       "}}\n",
       "\n",
       "                        })                };                });            </script>        </div>"
      ]
     },
     "metadata": {},
     "output_type": "display_data"
    }
   ],
   "source": [
    "param_range = np.arange(1, 10, 1)\n",
    "#clf = RandomForestRegressor(max_features='sqrt',max_depth=11,min_samples_leaf=2,min_samples_split=9,random_state=42)\n",
    "clf = KNeighborsRegressor()\n",
    "plot_validation_curves(clf, X_train, Y_train, \"n_neighbors\", param_range, 5)"
   ]
  },
  {
   "cell_type": "code",
   "execution_count": null,
   "id": "02968163-40f6-4db9-a6ae-195ecb43b989",
   "metadata": {
    "tags": []
   },
   "outputs": [
    {
     "name": "stdout",
     "output_type": "stream",
     "text": [
      "Train score:  0.8271850342665639\n",
      "Test score:  0.8935123407714924\n"
     ]
    },
    {
     "data": {
      "text/plain": [
       "<matplotlib.legend.Legend at 0x278f61c9ca0>"
      ]
     },
     "execution_count": 54,
     "metadata": {},
     "output_type": "execute_result"
    },
    {
     "data": {
      "image/png": "[encoded data removed]",
      "text/plain": [
       "<Figure size 1008x648 with 1 Axes>"
      ]
     },
     "metadata": {},
     "output_type": "display_data"
    }
   ],
   "source": [
    "clf = KNeighborsRegressor(n_neighbors=4)\n",
    "clf.fit(X_train,Y_train)\n",
    "\n",
    "print('Train score: ',clf.score(X_train,Y_train))\n",
    "print('Test score: ',clf.score(X_test,Y_test))\n",
    "\n",
    "res = pd.DataFrame({'Real':pd.concat([Y_test,Y_train]),'Pred':clf.predict(pd.concat([X_test,X_train]))})\n",
    "res['Time'] = df.Time.copy()\n",
    "res = res.sort_values(by='Time')\n",
    "\n",
    "sns.set()\n",
    "plt.figure(figsize=(14,9))\n",
    "plt.plot(res['Time'],res['Real'],c='b')\n",
    "plt.plot(res['Time'],res['Pred'],c = 'r')\n",
    "plt.legend(['Real','Pred'])\n",
    "\n",
    "#Probably overfitting ;("
   ]
  },
  {
   "cell_type": "markdown",
   "id": "4de4aad2-b5a5-422b-85c3-c6de12514580",
   "metadata": {},
   "source": [
    "# GridSearchCV to choose the best params"
   ]
  },
  {
   "cell_type": "markdown",
   "id": "83d7a5d6-4d02-4032-8960-b752a50818c5",
   "metadata": {},
   "source": [
    "param_grid = {'n_estimators':np.arange(100,200,15),'max_depth':np.arange(1,12,4),'min_samples_split':np.arange(2,15,4),'min_samples_leaf':np.arange(1,10,3)}\n",
    "\n",
    "grid = GridSearchCV(RandomForestRegressor(), param_grid, cv=7)"
   ]
  },
  {
   "cell_type": "markdown",
   "id": "0e37571b-779c-49e0-9879-1c0348b7d60e",
   "metadata": {},
   "source": [
    "grid.fit(X_train,Y_train)"
   ]
  },
  {
   "cell_type": "markdown",
   "id": "2d899ff2-7ea4-4745-a9bd-d0e807ecda6f",
   "metadata": {},
   "source": [
    "grid.best_params_"
   ]
  },
  {
   "cell_type": "markdown",
   "id": "02f661cd-9779-468b-a33f-8fcb0c1d2b56",
   "metadata": {},
   "source": [
    "model = grid.best_estimator_"
   ]
  },
  {
   "cell_type": "markdown",
   "id": "57646039-2883-4673-a40f-fd6efe24dabb",
   "metadata": {},
   "source": [
    "#plt.scatter(df['Time'], Y_train)\n",
    "model.fit(X_train, Y_train)\n",
    "print('Train score: ',model.score(X_train,Y_train))\n",
    "print('Test score: ',model.score(X_test,Y_test))\n",
    "#plt.plot(df['Time'], y_test, hold=True);"
   ]
  },
  {
   "cell_type": "markdown",
   "id": "999928b0-a8d4-4ae9-a176-709d55b3ed89",
   "metadata": {},
   "source": [
    "res = pd.DataFrame({'Real':pd.concat([Y_test,Y_train]),'Pred':model.predict(pd.concat([X_test,X_train]))})\n",
    "res['Time'] = df.Time.copy()\n",
    "res = res.sort_values(by='Time')\n",
    "\n",
    "sns.set()\n",
    "plt.figure(figsize=(14,9))\n",
    "plt.plot(res['Time'],res['Real'],c='r')\n",
    "plt.plot(res['Time'],res['Pred'])\n",
    "plt.legend(['Real','Pred'])"
   ]
  },
  {
   "cell_type": "markdown",
   "id": "25790571-7bb5-4f0e-856a-6f3f7919bbc7",
   "metadata": {},
   "source": [
    "# Mean Absolute Error\n",
    "### Keep trying to prevent overfiting ;)"
   ]
  },
  {
   "cell_type": "code",
   "execution_count": 48,
   "id": "30530a85-8fe2-4cbc-9e7e-a85e65a8dea1",
   "metadata": {},
   "outputs": [],
   "source": [
    "def plot_mae(X,y,n_spl = 4):\n",
    "    kf = KFold(n_splits=n_spl)\n",
    "    mae_train = []\n",
    "    mae_test = []\n",
    "    for train_index, test_index in kf.split(X):\n",
    "\n",
    "       X_train, X_test = X.iloc[train_index], X.iloc[test_index]\n",
    "       y_train, y_test = y[train_index], y[test_index]\n",
    "       model = KNeighborsRegressor(n_neighbors=4)\n",
    "       #model = RandomForestRegressor(n_estimators=100,max_features='sqrt',max_depth=5,min_samples_leaf=1,min_samples_split=2,random_state=42)\n",
    "       #model = LinearRegression()\n",
    "       #model = Ridge(alpha=0.1)\n",
    "       model.fit(X_train, y_train)\n",
    "       y_train_pred = model.predict(X_train)\n",
    "       y_test_pred = model.predict(X_test)\n",
    "       mae_train.append(mean_absolute_error(y_train, y_train_pred))\n",
    "       mae_test.append(mean_absolute_error(y_test, y_test_pred))\n",
    "        \n",
    "    folds = range(1, kf.get_n_splits() + 1)\n",
    "    plt.plot(folds, mae_train, 'o-', color='green', label='train')\n",
    "    plt.plot(folds, mae_test, 'o-', color='red', label='test')\n",
    "    plt.legend()\n",
    "    plt.grid()\n",
    "    plt.xlabel('Number of fold')\n",
    "    plt.ylabel('Mean Absolute Error')\n",
    "    plt.show()"
   ]
  },
  {
   "cell_type": "code",
   "execution_count": null,
   "id": "a117dd0b-071a-4aa7-b879-770147344418",
   "metadata": {},
   "outputs": [],
   "source": [
    "pca = PCA()\n",
    "pca.fit(X)\n",
    "X_pca = pca.transform(X)\n",
    "X_pca = pd.DataFrame(X_pca)"
   ]
  },
  {
   "cell_type": "code",
   "execution_count": 50,
   "id": "2667d548-60db-4523-aa80-2f05566a2177",
   "metadata": {},
   "outputs": [
    {
     "data": {
      "image/png": "[encoded data removed]",
      "text/plain": [
       "<Figure size 432x288 with 1 Axes>"
      ]
     },
     "metadata": {},
     "output_type": "display_data"
    }
   ],
   "source": [
    "plot_mae(X,y,5)"
   ]
  },
  {
   "cell_type": "code",
   "execution_count": null,
   "id": "870379af-7ed6-4394-a458-c4f7bfb9534b",
   "metadata": {},
   "outputs": [],
   "source": []
  }
 ],
 "metadata": {
  "kernelspec": {
   "display_name": "Python 3 (ipykernel)",
   "language": "python",
   "name": "python3"
  },
  "language_info": {
   "codemirror_mode": {
    "name": "ipython",
    "version": 3
   },
   "file_extension": ".py",
   "mimetype": "text/x-python",
   "name": "python",
   "nbconvert_exporter": "python",
   "pygments_lexer": "ipython3",
   "version": "3.10.5"
  }
 },
 "nbformat": 4,
 "nbformat_minor": 5
}
